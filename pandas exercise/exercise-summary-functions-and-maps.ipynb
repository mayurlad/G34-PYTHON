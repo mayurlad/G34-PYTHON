{
 "cells": [
  {
   "cell_type": "markdown",
   "id": "75541572",
   "metadata": {
    "papermill": {
     "duration": 0.004796,
     "end_time": "2025-04-12T15:35:05.464556",
     "exception": false,
     "start_time": "2025-04-12T15:35:05.459760",
     "status": "completed"
    },
    "tags": []
   },
   "source": [
    "# Introduction\n",
    "\n",
    "Now you are ready to get a deeper understanding of your data.\n",
    "\n",
    "Run the following cell to load your data and some utility functions (including code to check your answers)."
   ]
  },
  {
   "cell_type": "code",
   "execution_count": 1,
   "id": "9b3a9311",
   "metadata": {
    "execution": {
     "iopub.execute_input": "2025-04-12T15:35:05.474641Z",
     "iopub.status.busy": "2025-04-12T15:35:05.474298Z",
     "iopub.status.idle": "2025-04-12T15:35:12.587721Z",
     "shell.execute_reply": "2025-04-12T15:35:12.586799Z"
    },
    "papermill": {
     "duration": 7.120266,
     "end_time": "2025-04-12T15:35:12.589045",
     "exception": false,
     "start_time": "2025-04-12T15:35:05.468779",
     "status": "completed"
    },
    "tags": []
   },
   "outputs": [
    {
     "name": "stdout",
     "output_type": "stream",
     "text": [
      "Setup complete.\n"
     ]
    },
    {
     "name": "stderr",
     "output_type": "stream",
     "text": [
      "/usr/local/lib/python3.11/dist-packages/pandas/io/formats/format.py:1458: RuntimeWarning: invalid value encountered in greater\n",
      "  has_large_values = (abs_vals > 1e6).any()\n",
      "/usr/local/lib/python3.11/dist-packages/pandas/io/formats/format.py:1459: RuntimeWarning: invalid value encountered in less\n",
      "  has_small_values = ((abs_vals < 10 ** (-self.digits)) & (abs_vals > 0)).any()\n",
      "/usr/local/lib/python3.11/dist-packages/pandas/io/formats/format.py:1459: RuntimeWarning: invalid value encountered in greater\n",
      "  has_small_values = ((abs_vals < 10 ** (-self.digits)) & (abs_vals > 0)).any()\n"
     ]
    },
    {
     "data": {
      "text/html": [
       "<div>\n",
       "<style scoped>\n",
       "    .dataframe tbody tr th:only-of-type {\n",
       "        vertical-align: middle;\n",
       "    }\n",
       "\n",
       "    .dataframe tbody tr th {\n",
       "        vertical-align: top;\n",
       "    }\n",
       "\n",
       "    .dataframe thead th {\n",
       "        text-align: right;\n",
       "    }\n",
       "</style>\n",
       "<table border=\"1\" class=\"dataframe\">\n",
       "  <thead>\n",
       "    <tr style=\"text-align: right;\">\n",
       "      <th></th>\n",
       "      <th>country</th>\n",
       "      <th>description</th>\n",
       "      <th>designation</th>\n",
       "      <th>points</th>\n",
       "      <th>price</th>\n",
       "      <th>province</th>\n",
       "      <th>region_1</th>\n",
       "      <th>region_2</th>\n",
       "      <th>taster_name</th>\n",
       "      <th>taster_twitter_handle</th>\n",
       "      <th>title</th>\n",
       "      <th>variety</th>\n",
       "      <th>winery</th>\n",
       "    </tr>\n",
       "  </thead>\n",
       "  <tbody>\n",
       "    <tr>\n",
       "      <th>0</th>\n",
       "      <td>Italy</td>\n",
       "      <td>Aromas include tropical fruit, broom, brimston...</td>\n",
       "      <td>Vulkà Bianco</td>\n",
       "      <td>87</td>\n",
       "      <td>NaN</td>\n",
       "      <td>Sicily &amp; Sardinia</td>\n",
       "      <td>Etna</td>\n",
       "      <td>NaN</td>\n",
       "      <td>Kerin O’Keefe</td>\n",
       "      <td>@kerinokeefe</td>\n",
       "      <td>Nicosia 2013 Vulkà Bianco  (Etna)</td>\n",
       "      <td>White Blend</td>\n",
       "      <td>Nicosia</td>\n",
       "    </tr>\n",
       "    <tr>\n",
       "      <th>1</th>\n",
       "      <td>Portugal</td>\n",
       "      <td>This is ripe and fruity, a wine that is smooth...</td>\n",
       "      <td>Avidagos</td>\n",
       "      <td>87</td>\n",
       "      <td>15.0</td>\n",
       "      <td>Douro</td>\n",
       "      <td>NaN</td>\n",
       "      <td>NaN</td>\n",
       "      <td>Roger Voss</td>\n",
       "      <td>@vossroger</td>\n",
       "      <td>Quinta dos Avidagos 2011 Avidagos Red (Douro)</td>\n",
       "      <td>Portuguese Red</td>\n",
       "      <td>Quinta dos Avidagos</td>\n",
       "    </tr>\n",
       "    <tr>\n",
       "      <th>2</th>\n",
       "      <td>US</td>\n",
       "      <td>Tart and snappy, the flavors of lime flesh and...</td>\n",
       "      <td>NaN</td>\n",
       "      <td>87</td>\n",
       "      <td>14.0</td>\n",
       "      <td>Oregon</td>\n",
       "      <td>Willamette Valley</td>\n",
       "      <td>Willamette Valley</td>\n",
       "      <td>Paul Gregutt</td>\n",
       "      <td>@paulgwine</td>\n",
       "      <td>Rainstorm 2013 Pinot Gris (Willamette Valley)</td>\n",
       "      <td>Pinot Gris</td>\n",
       "      <td>Rainstorm</td>\n",
       "    </tr>\n",
       "    <tr>\n",
       "      <th>3</th>\n",
       "      <td>US</td>\n",
       "      <td>Pineapple rind, lemon pith and orange blossom ...</td>\n",
       "      <td>Reserve Late Harvest</td>\n",
       "      <td>87</td>\n",
       "      <td>13.0</td>\n",
       "      <td>Michigan</td>\n",
       "      <td>Lake Michigan Shore</td>\n",
       "      <td>NaN</td>\n",
       "      <td>Alexander Peartree</td>\n",
       "      <td>NaN</td>\n",
       "      <td>St. Julian 2013 Reserve Late Harvest Riesling ...</td>\n",
       "      <td>Riesling</td>\n",
       "      <td>St. Julian</td>\n",
       "    </tr>\n",
       "    <tr>\n",
       "      <th>4</th>\n",
       "      <td>US</td>\n",
       "      <td>Much like the regular bottling from 2012, this...</td>\n",
       "      <td>Vintner's Reserve Wild Child Block</td>\n",
       "      <td>87</td>\n",
       "      <td>65.0</td>\n",
       "      <td>Oregon</td>\n",
       "      <td>Willamette Valley</td>\n",
       "      <td>Willamette Valley</td>\n",
       "      <td>Paul Gregutt</td>\n",
       "      <td>@paulgwine</td>\n",
       "      <td>Sweet Cheeks 2012 Vintner's Reserve Wild Child...</td>\n",
       "      <td>Pinot Noir</td>\n",
       "      <td>Sweet Cheeks</td>\n",
       "    </tr>\n",
       "  </tbody>\n",
       "</table>\n",
       "</div>"
      ],
      "text/plain": [
       "    country                                        description  \\\n",
       "0     Italy  Aromas include tropical fruit, broom, brimston...   \n",
       "1  Portugal  This is ripe and fruity, a wine that is smooth...   \n",
       "2        US  Tart and snappy, the flavors of lime flesh and...   \n",
       "3        US  Pineapple rind, lemon pith and orange blossom ...   \n",
       "4        US  Much like the regular bottling from 2012, this...   \n",
       "\n",
       "                          designation  points  price           province  \\\n",
       "0                        Vulkà Bianco      87    NaN  Sicily & Sardinia   \n",
       "1                            Avidagos      87   15.0              Douro   \n",
       "2                                 NaN      87   14.0             Oregon   \n",
       "3                Reserve Late Harvest      87   13.0           Michigan   \n",
       "4  Vintner's Reserve Wild Child Block      87   65.0             Oregon   \n",
       "\n",
       "              region_1           region_2         taster_name  \\\n",
       "0                 Etna                NaN       Kerin O’Keefe   \n",
       "1                  NaN                NaN          Roger Voss   \n",
       "2    Willamette Valley  Willamette Valley        Paul Gregutt   \n",
       "3  Lake Michigan Shore                NaN  Alexander Peartree   \n",
       "4    Willamette Valley  Willamette Valley        Paul Gregutt   \n",
       "\n",
       "  taster_twitter_handle                                              title  \\\n",
       "0          @kerinokeefe                  Nicosia 2013 Vulkà Bianco  (Etna)   \n",
       "1            @vossroger      Quinta dos Avidagos 2011 Avidagos Red (Douro)   \n",
       "2           @paulgwine       Rainstorm 2013 Pinot Gris (Willamette Valley)   \n",
       "3                   NaN  St. Julian 2013 Reserve Late Harvest Riesling ...   \n",
       "4           @paulgwine   Sweet Cheeks 2012 Vintner's Reserve Wild Child...   \n",
       "\n",
       "          variety               winery  \n",
       "0     White Blend              Nicosia  \n",
       "1  Portuguese Red  Quinta dos Avidagos  \n",
       "2      Pinot Gris            Rainstorm  \n",
       "3        Riesling           St. Julian  \n",
       "4      Pinot Noir         Sweet Cheeks  "
      ]
     },
     "execution_count": 1,
     "metadata": {},
     "output_type": "execute_result"
    }
   ],
   "source": [
    "import pandas as pd\n",
    "pd.set_option(\"display.max_rows\", 5)\n",
    "reviews = pd.read_csv(\"../input/wine-reviews/winemag-data-130k-v2.csv\", index_col=0)\n",
    "\n",
    "from learntools.core import binder; binder.bind(globals())\n",
    "from learntools.pandas.summary_functions_and_maps import *\n",
    "print(\"Setup complete.\")\n",
    "\n",
    "reviews.head()"
   ]
  },
  {
   "cell_type": "markdown",
   "id": "bc11b799",
   "metadata": {
    "papermill": {
     "duration": 0.00434,
     "end_time": "2025-04-12T15:35:12.597989",
     "exception": false,
     "start_time": "2025-04-12T15:35:12.593649",
     "status": "completed"
    },
    "tags": []
   },
   "source": [
    "# Exercises"
   ]
  },
  {
   "cell_type": "markdown",
   "id": "80390cc4",
   "metadata": {
    "papermill": {
     "duration": 0.004106,
     "end_time": "2025-04-12T15:35:12.606520",
     "exception": false,
     "start_time": "2025-04-12T15:35:12.602414",
     "status": "completed"
    },
    "tags": []
   },
   "source": [
    "## 1.\n",
    "\n",
    "What is the median of the `points` column in the `reviews` DataFrame?"
   ]
  },
  {
   "cell_type": "code",
   "execution_count": 2,
   "id": "5179826a",
   "metadata": {
    "execution": {
     "iopub.execute_input": "2025-04-12T15:35:12.616719Z",
     "iopub.status.busy": "2025-04-12T15:35:12.616435Z",
     "iopub.status.idle": "2025-04-12T15:35:12.620923Z",
     "shell.execute_reply": "2025-04-12T15:35:12.620108Z"
    },
    "papermill": {
     "duration": 0.011436,
     "end_time": "2025-04-12T15:35:12.622340",
     "exception": false,
     "start_time": "2025-04-12T15:35:12.610904",
     "status": "completed"
    },
    "tags": []
   },
   "outputs": [],
   "source": [
    "median_points = reviews['points'].median()\n"
   ]
  },
  {
   "cell_type": "code",
   "execution_count": 3,
   "id": "fabed9e2",
   "metadata": {
    "execution": {
     "iopub.execute_input": "2025-04-12T15:35:12.632423Z",
     "iopub.status.busy": "2025-04-12T15:35:12.632070Z",
     "iopub.status.idle": "2025-04-12T15:35:12.635770Z",
     "shell.execute_reply": "2025-04-12T15:35:12.634931Z"
    },
    "papermill": {
     "duration": 0.010411,
     "end_time": "2025-04-12T15:35:12.637193",
     "exception": false,
     "start_time": "2025-04-12T15:35:12.626782",
     "status": "completed"
    },
    "tags": []
   },
   "outputs": [],
   "source": [
    "#q1.hint()\n",
    "#q1.solution()"
   ]
  },
  {
   "cell_type": "markdown",
   "id": "7de1df9d",
   "metadata": {
    "papermill": {
     "duration": 0.004138,
     "end_time": "2025-04-12T15:35:12.645861",
     "exception": false,
     "start_time": "2025-04-12T15:35:12.641723",
     "status": "completed"
    },
    "tags": []
   },
   "source": [
    "## 2. \n",
    "What countries are represented in the dataset? (Your answer should not include any duplicates.)"
   ]
  },
  {
   "cell_type": "code",
   "execution_count": 4,
   "id": "7bbe3a61",
   "metadata": {
    "execution": {
     "iopub.execute_input": "2025-04-12T15:35:12.656532Z",
     "iopub.status.busy": "2025-04-12T15:35:12.655809Z",
     "iopub.status.idle": "2025-04-12T15:35:12.664967Z",
     "shell.execute_reply": "2025-04-12T15:35:12.663982Z"
    },
    "papermill": {
     "duration": 0.016281,
     "end_time": "2025-04-12T15:35:12.666799",
     "exception": false,
     "start_time": "2025-04-12T15:35:12.650518",
     "status": "completed"
    },
    "tags": []
   },
   "outputs": [],
   "source": [
    "countries = reviews['country'].unique()\n"
   ]
  },
  {
   "cell_type": "code",
   "execution_count": 5,
   "id": "bfc89049",
   "metadata": {
    "execution": {
     "iopub.execute_input": "2025-04-12T15:35:12.677405Z",
     "iopub.status.busy": "2025-04-12T15:35:12.677061Z",
     "iopub.status.idle": "2025-04-12T15:35:12.680892Z",
     "shell.execute_reply": "2025-04-12T15:35:12.680036Z"
    },
    "papermill": {
     "duration": 0.010877,
     "end_time": "2025-04-12T15:35:12.682356",
     "exception": false,
     "start_time": "2025-04-12T15:35:12.671479",
     "status": "completed"
    },
    "tags": []
   },
   "outputs": [],
   "source": [
    "#q2.hint()\n",
    "#q2.solution()"
   ]
  },
  {
   "cell_type": "markdown",
   "id": "ae6d807a",
   "metadata": {
    "papermill": {
     "duration": 0.004246,
     "end_time": "2025-04-12T15:35:12.691299",
     "exception": false,
     "start_time": "2025-04-12T15:35:12.687053",
     "status": "completed"
    },
    "tags": []
   },
   "source": [
    "## 3.\n",
    "How often does each country appear in the dataset? Create a Series `reviews_per_country` mapping countries to the count of reviews of wines from that country."
   ]
  },
  {
   "cell_type": "code",
   "execution_count": 6,
   "id": "7b1f86fb",
   "metadata": {
    "execution": {
     "iopub.execute_input": "2025-04-12T15:35:12.701475Z",
     "iopub.status.busy": "2025-04-12T15:35:12.701168Z",
     "iopub.status.idle": "2025-04-12T15:35:12.714385Z",
     "shell.execute_reply": "2025-04-12T15:35:12.713609Z"
    },
    "papermill": {
     "duration": 0.019934,
     "end_time": "2025-04-12T15:35:12.715659",
     "exception": false,
     "start_time": "2025-04-12T15:35:12.695725",
     "status": "completed"
    },
    "tags": []
   },
   "outputs": [],
   "source": [
    "reviews_per_country = reviews['country'].value_counts()\n"
   ]
  },
  {
   "cell_type": "code",
   "execution_count": 7,
   "id": "50798fff",
   "metadata": {
    "execution": {
     "iopub.execute_input": "2025-04-12T15:35:12.726157Z",
     "iopub.status.busy": "2025-04-12T15:35:12.725821Z",
     "iopub.status.idle": "2025-04-12T15:35:12.729445Z",
     "shell.execute_reply": "2025-04-12T15:35:12.728668Z"
    },
    "papermill": {
     "duration": 0.010601,
     "end_time": "2025-04-12T15:35:12.730865",
     "exception": false,
     "start_time": "2025-04-12T15:35:12.720264",
     "status": "completed"
    },
    "tags": []
   },
   "outputs": [],
   "source": [
    "#q3.hint()\n",
    "#q3.solution()"
   ]
  },
  {
   "cell_type": "markdown",
   "id": "ac77076f",
   "metadata": {
    "papermill": {
     "duration": 0.00446,
     "end_time": "2025-04-12T15:35:12.740064",
     "exception": false,
     "start_time": "2025-04-12T15:35:12.735604",
     "status": "completed"
    },
    "tags": []
   },
   "source": [
    "## 4.\n",
    "Create variable `centered_price` containing a version of the `price` column with the mean price subtracted.\n",
    "\n",
    "(Note: this 'centering' transformation is a common preprocessing step before applying various machine learning algorithms.) "
   ]
  },
  {
   "cell_type": "code",
   "execution_count": 8,
   "id": "57035c27",
   "metadata": {
    "execution": {
     "iopub.execute_input": "2025-04-12T15:35:12.750441Z",
     "iopub.status.busy": "2025-04-12T15:35:12.750084Z",
     "iopub.status.idle": "2025-04-12T15:35:12.756938Z",
     "shell.execute_reply": "2025-04-12T15:35:12.756132Z"
    },
    "papermill": {
     "duration": 0.013949,
     "end_time": "2025-04-12T15:35:12.758538",
     "exception": false,
     "start_time": "2025-04-12T15:35:12.744589",
     "status": "completed"
    },
    "tags": []
   },
   "outputs": [],
   "source": [
    "mean_price = reviews['price'].mean()\n",
    "reviews['centered_price'] = reviews['price'] - mean_price\n"
   ]
  },
  {
   "cell_type": "code",
   "execution_count": 9,
   "id": "0aed705d",
   "metadata": {
    "execution": {
     "iopub.execute_input": "2025-04-12T15:35:12.770083Z",
     "iopub.status.busy": "2025-04-12T15:35:12.769395Z",
     "iopub.status.idle": "2025-04-12T15:35:12.773557Z",
     "shell.execute_reply": "2025-04-12T15:35:12.772683Z"
    },
    "papermill": {
     "duration": 0.011591,
     "end_time": "2025-04-12T15:35:12.775061",
     "exception": false,
     "start_time": "2025-04-12T15:35:12.763470",
     "status": "completed"
    },
    "tags": []
   },
   "outputs": [],
   "source": [
    "#q4.hint()\n",
    "#q4.solution()"
   ]
  },
  {
   "cell_type": "markdown",
   "id": "39ea8ae8",
   "metadata": {
    "papermill": {
     "duration": 0.004435,
     "end_time": "2025-04-12T15:35:12.784388",
     "exception": false,
     "start_time": "2025-04-12T15:35:12.779953",
     "status": "completed"
    },
    "tags": []
   },
   "source": [
    "## 5.\n",
    "I'm an economical wine buyer. Which wine is the \"best bargain\"? Create a variable `bargain_wine` with the title of the wine with the highest points-to-price ratio in the dataset."
   ]
  },
  {
   "cell_type": "code",
   "execution_count": 10,
   "id": "1b802a4d",
   "metadata": {
    "execution": {
     "iopub.execute_input": "2025-04-12T15:35:12.795160Z",
     "iopub.status.busy": "2025-04-12T15:35:12.794816Z",
     "iopub.status.idle": "2025-04-12T15:35:12.811107Z",
     "shell.execute_reply": "2025-04-12T15:35:12.810196Z"
    },
    "papermill": {
     "duration": 0.023719,
     "end_time": "2025-04-12T15:35:12.812767",
     "exception": false,
     "start_time": "2025-04-12T15:35:12.789048",
     "status": "completed"
    },
    "tags": []
   },
   "outputs": [],
   "source": [
    "reviews['points_per_price'] = reviews['points'] / reviews['price']\n",
    "bargain_wine = reviews.loc[reviews['points_per_price'].idxmax(), 'title']\n"
   ]
  },
  {
   "cell_type": "code",
   "execution_count": 11,
   "id": "0ba6169d",
   "metadata": {
    "execution": {
     "iopub.execute_input": "2025-04-12T15:35:12.823308Z",
     "iopub.status.busy": "2025-04-12T15:35:12.822989Z",
     "iopub.status.idle": "2025-04-12T15:35:12.826729Z",
     "shell.execute_reply": "2025-04-12T15:35:12.825865Z"
    },
    "papermill": {
     "duration": 0.010557,
     "end_time": "2025-04-12T15:35:12.828114",
     "exception": false,
     "start_time": "2025-04-12T15:35:12.817557",
     "status": "completed"
    },
    "tags": []
   },
   "outputs": [],
   "source": [
    "#q5.hint()\n",
    "#q5.solution()"
   ]
  },
  {
   "cell_type": "markdown",
   "id": "ca379f84",
   "metadata": {
    "papermill": {
     "duration": 0.004476,
     "end_time": "2025-04-12T15:35:12.837350",
     "exception": false,
     "start_time": "2025-04-12T15:35:12.832874",
     "status": "completed"
    },
    "tags": []
   },
   "source": [
    "## 6.\n",
    "There are only so many words you can use when describing a bottle of wine. Is a wine more likely to be \"tropical\" or \"fruity\"? Create a Series `descriptor_counts` counting how many times each of these two words appears in the `description` column in the dataset. (For simplicity, let's ignore the capitalized versions of these words.)"
   ]
  },
  {
   "cell_type": "code",
   "execution_count": 12,
   "id": "af24d71a",
   "metadata": {
    "execution": {
     "iopub.execute_input": "2025-04-12T15:35:12.847419Z",
     "iopub.status.busy": "2025-04-12T15:35:12.847089Z",
     "iopub.status.idle": "2025-04-12T15:35:13.723487Z",
     "shell.execute_reply": "2025-04-12T15:35:13.722703Z"
    },
    "papermill": {
     "duration": 0.883276,
     "end_time": "2025-04-12T15:35:13.725054",
     "exception": false,
     "start_time": "2025-04-12T15:35:12.841778",
     "status": "completed"
    },
    "tags": []
   },
   "outputs": [],
   "source": [
    "n_tropical = reviews['description'].str.contains('tropical', case=False, na=False).sum()\n",
    "n_fruity = reviews['description'].str.contains('fruity', case=False, na=False).sum()\n",
    "descriptor_counts = pd.Series([n_tropical, n_fruity], index=['tropical', 'fruity'])\n"
   ]
  },
  {
   "cell_type": "code",
   "execution_count": 13,
   "id": "4dc97cd8",
   "metadata": {
    "execution": {
     "iopub.execute_input": "2025-04-12T15:35:13.736247Z",
     "iopub.status.busy": "2025-04-12T15:35:13.735908Z",
     "iopub.status.idle": "2025-04-12T15:35:13.739695Z",
     "shell.execute_reply": "2025-04-12T15:35:13.738866Z"
    },
    "papermill": {
     "duration": 0.011342,
     "end_time": "2025-04-12T15:35:13.741224",
     "exception": false,
     "start_time": "2025-04-12T15:35:13.729882",
     "status": "completed"
    },
    "tags": []
   },
   "outputs": [],
   "source": [
    "#q6.hint()\n",
    "#q6.solution()"
   ]
  },
  {
   "cell_type": "markdown",
   "id": "7d01427b",
   "metadata": {
    "papermill": {
     "duration": 0.004415,
     "end_time": "2025-04-12T15:35:13.750473",
     "exception": false,
     "start_time": "2025-04-12T15:35:13.746058",
     "status": "completed"
    },
    "tags": []
   },
   "source": [
    "## 7.\n",
    "We'd like to host these wine reviews on our website, but a rating system ranging from 80 to 100 points is too hard to understand - we'd like to translate them into simple star ratings. A score of 95 or higher counts as 3 stars, a score of at least 85 but less than 95 is 2 stars. Any other score is 1 star.\n",
    "\n",
    "Also, the Canadian Vintners Association bought a lot of ads on the site, so any wines from Canada should automatically get 3 stars, regardless of points.\n",
    "\n",
    "Create a series `star_ratings` with the number of stars corresponding to each review in the dataset."
   ]
  },
  {
   "cell_type": "code",
   "execution_count": 14,
   "id": "5a606262",
   "metadata": {
    "execution": {
     "iopub.execute_input": "2025-04-12T15:35:13.761091Z",
     "iopub.status.busy": "2025-04-12T15:35:13.760751Z",
     "iopub.status.idle": "2025-04-12T15:35:14.952989Z",
     "shell.execute_reply": "2025-04-12T15:35:14.952046Z"
    },
    "papermill": {
     "duration": 1.199692,
     "end_time": "2025-04-12T15:35:14.954851",
     "exception": false,
     "start_time": "2025-04-12T15:35:13.755159",
     "status": "completed"
    },
    "tags": []
   },
   "outputs": [],
   "source": [
    "def assign_stars(row):\n",
    "    if row['country'] == 'Canada':\n",
    "        return 3\n",
    "    elif row['points'] >= 95:\n",
    "        return 3\n",
    "    elif row['points'] >= 85:\n",
    "        return 2\n",
    "    else:\n",
    "        return 1\n",
    "\n",
    "reviews['star_ratings'] = reviews.apply(assign_stars, axis=1)\n"
   ]
  },
  {
   "cell_type": "code",
   "execution_count": 15,
   "id": "3614534e",
   "metadata": {
    "execution": {
     "iopub.execute_input": "2025-04-12T15:35:14.966426Z",
     "iopub.status.busy": "2025-04-12T15:35:14.965810Z",
     "iopub.status.idle": "2025-04-12T15:35:14.969489Z",
     "shell.execute_reply": "2025-04-12T15:35:14.968617Z"
    },
    "papermill": {
     "duration": 0.010773,
     "end_time": "2025-04-12T15:35:14.970711",
     "exception": false,
     "start_time": "2025-04-12T15:35:14.959938",
     "status": "completed"
    },
    "tags": []
   },
   "outputs": [],
   "source": [
    "#q7.hint()\n",
    "#q7.solution()"
   ]
  },
  {
   "cell_type": "markdown",
   "id": "e6242a3e",
   "metadata": {
    "papermill": {
     "duration": 0.004466,
     "end_time": "2025-04-12T15:35:14.979908",
     "exception": false,
     "start_time": "2025-04-12T15:35:14.975442",
     "status": "completed"
    },
    "tags": []
   },
   "source": [
    "# Keep going\n",
    "Continue to **[grouping and sorting](https://www.kaggle.com/residentmario/grouping-and-sorting)**."
   ]
  },
  {
   "cell_type": "markdown",
   "id": "f57b14a8",
   "metadata": {
    "papermill": {
     "duration": 0.004253,
     "end_time": "2025-04-12T15:35:14.988627",
     "exception": false,
     "start_time": "2025-04-12T15:35:14.984374",
     "status": "completed"
    },
    "tags": []
   },
   "source": [
    "---\n",
    "\n",
    "\n",
    "\n",
    "\n",
    "*Have questions or comments? Visit the [course discussion forum](https://www.kaggle.com/learn/pandas/discussion) to chat with other learners.*"
   ]
  },
  {
   "cell_type": "markdown",
   "id": "54f5dda9",
   "metadata": {
    "papermill": {
     "duration": 0.004288,
     "end_time": "2025-04-12T15:35:14.997276",
     "exception": false,
     "start_time": "2025-04-12T15:35:14.992988",
     "status": "completed"
    },
    "tags": []
   },
   "source": [
    "**This notebook is an exercise in the [Pandas](https://www.kaggle.com/learn/pandas) course.  You can reference the tutorial at [this link](https://www.kaggle.com/residentmario/summary-functions-and-maps).**\n",
    "\n",
    "---\n"
   ]
  }
 ],
 "metadata": {
  "kaggle": {
   "accelerator": "none",
   "dataSources": [
    {
     "datasetId": 655,
     "sourceId": 1252,
     "sourceType": "datasetVersion"
    },
    {
     "datasetId": 2321,
     "sourceId": 3919,
     "sourceType": "datasetVersion"
    },
    {
     "datasetId": 2894,
     "sourceId": 4877,
     "sourceType": "datasetVersion"
    },
    {
     "datasetId": 3491,
     "sourceId": 5624,
     "sourceType": "datasetVersion"
    },
    {
     "datasetId": 1442,
     "sourceId": 8172,
     "sourceType": "datasetVersion"
    },
    {
     "datasetId": 9366,
     "sourceId": 13206,
     "sourceType": "datasetVersion"
    },
    {
     "datasetId": 179555,
     "sourceId": 403916,
     "sourceType": "datasetVersion"
    },
    {
     "datasetId": 4549,
     "sourceId": 466349,
     "sourceType": "datasetVersion"
    },
    {
     "datasetId": 2478,
     "sourceId": 1151655,
     "sourceType": "datasetVersion"
    },
    {
     "datasetId": 10128,
     "sourceId": 5438389,
     "sourceType": "datasetVersion"
    }
   ],
   "isGpuEnabled": false,
   "isInternetEnabled": false,
   "language": "python",
   "sourceType": "notebook"
  },
  "kernelspec": {
   "display_name": "Python 3",
   "language": "python",
   "name": "python3"
  },
  "language_info": {
   "codemirror_mode": {
    "name": "ipython",
    "version": 3
   },
   "file_extension": ".py",
   "mimetype": "text/x-python",
   "name": "python",
   "nbconvert_exporter": "python",
   "pygments_lexer": "ipython3",
   "version": "3.11.11"
  },
  "papermill": {
   "default_parameters": {},
   "duration": 14.600095,
   "end_time": "2025-04-12T15:35:15.520701",
   "environment_variables": {},
   "exception": null,
   "input_path": "__notebook__.ipynb",
   "output_path": "__notebook__.ipynb",
   "parameters": {},
   "start_time": "2025-04-12T15:35:00.920606",
   "version": "2.6.0"
  }
 },
 "nbformat": 4,
 "nbformat_minor": 5
}
