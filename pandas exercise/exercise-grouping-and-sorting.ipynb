{
 "cells": [
  {
   "cell_type": "markdown",
   "id": "7e725b16",
   "metadata": {
    "papermill": {
     "duration": 0.005186,
     "end_time": "2025-04-12T15:43:58.064231",
     "exception": false,
     "start_time": "2025-04-12T15:43:58.059045",
     "status": "completed"
    },
    "tags": []
   },
   "source": [
    "**This notebook is an exercise in the [Pandas](https://www.kaggle.com/learn/pandas) course.  You can reference the tutorial at [this link](https://www.kaggle.com/residentmario/grouping-and-sorting).**\n",
    "\n",
    "---\n"
   ]
  },
  {
   "cell_type": "markdown",
   "id": "1c70f118",
   "metadata": {
    "papermill": {
     "duration": 0.003812,
     "end_time": "2025-04-12T15:43:58.072319",
     "exception": false,
     "start_time": "2025-04-12T15:43:58.068507",
     "status": "completed"
    },
    "tags": []
   },
   "source": [
    "# Introduction\n",
    "\n",
    "In these exercises we'll apply groupwise analysis to our dataset.\n",
    "\n",
    "Run the code cell below to load the data before running the exercises."
   ]
  },
  {
   "cell_type": "code",
   "execution_count": 1,
   "id": "8c69c391",
   "metadata": {
    "execution": {
     "iopub.execute_input": "2025-04-12T15:43:58.081997Z",
     "iopub.status.busy": "2025-04-12T15:43:58.081539Z",
     "iopub.status.idle": "2025-04-12T15:44:03.689569Z",
     "shell.execute_reply": "2025-04-12T15:44:03.688556Z"
    },
    "papermill": {
     "duration": 5.615708,
     "end_time": "2025-04-12T15:44:03.691971",
     "exception": false,
     "start_time": "2025-04-12T15:43:58.076263",
     "status": "completed"
    },
    "tags": []
   },
   "outputs": [
    {
     "name": "stdout",
     "output_type": "stream",
     "text": [
      "Setup complete.\n"
     ]
    },
    {
     "name": "stderr",
     "output_type": "stream",
     "text": [
      "/usr/local/lib/python3.11/dist-packages/learntools/pandas/grouping_and_sorting.py:29: FutureWarning: The provided callable <built-in function min> is currently using SeriesGroupBy.min. In a future version of pandas, the provided callable will be used directly. To keep current behavior pass the string \"min\" instead.\n",
      "  _expected = reviews.groupby('variety').price.agg([min, max])\n",
      "/usr/local/lib/python3.11/dist-packages/learntools/pandas/grouping_and_sorting.py:29: FutureWarning: The provided callable <built-in function max> is currently using SeriesGroupBy.max. In a future version of pandas, the provided callable will be used directly. To keep current behavior pass the string \"max\" instead.\n",
      "  _expected = reviews.groupby('variety').price.agg([min, max])\n",
      "/usr/local/lib/python3.11/dist-packages/learntools/pandas/grouping_and_sorting.py:35: FutureWarning: The provided callable <built-in function min> is currently using SeriesGroupBy.min. In a future version of pandas, the provided callable will be used directly. To keep current behavior pass the string \"min\" instead.\n",
      "  _expected = reviews.groupby('variety').price.agg([min, max]).sort_values(by=['min', 'max'], ascending=False)\n",
      "/usr/local/lib/python3.11/dist-packages/learntools/pandas/grouping_and_sorting.py:35: FutureWarning: The provided callable <built-in function max> is currently using SeriesGroupBy.max. In a future version of pandas, the provided callable will be used directly. To keep current behavior pass the string \"max\" instead.\n",
      "  _expected = reviews.groupby('variety').price.agg([min, max]).sort_values(by=['min', 'max'], ascending=False)\n"
     ]
    }
   ],
   "source": [
    "import pandas as pd\n",
    "\n",
    "reviews = pd.read_csv(\"../input/wine-reviews/winemag-data-130k-v2.csv\", index_col=0)\n",
    "#pd.set_option(\"display.max_rows\", 5)\n",
    "\n",
    "from learntools.core import binder; binder.bind(globals())\n",
    "from learntools.pandas.grouping_and_sorting import *\n",
    "print(\"Setup complete.\")"
   ]
  },
  {
   "cell_type": "markdown",
   "id": "71c9bda7",
   "metadata": {
    "papermill": {
     "duration": 0.003923,
     "end_time": "2025-04-12T15:44:03.700507",
     "exception": false,
     "start_time": "2025-04-12T15:44:03.696584",
     "status": "completed"
    },
    "tags": []
   },
   "source": [
    "# Exercises"
   ]
  },
  {
   "cell_type": "markdown",
   "id": "61fa9192",
   "metadata": {
    "papermill": {
     "duration": 0.004035,
     "end_time": "2025-04-12T15:44:03.708762",
     "exception": false,
     "start_time": "2025-04-12T15:44:03.704727",
     "status": "completed"
    },
    "tags": []
   },
   "source": [
    "## 1.\n",
    "Who are the most common wine reviewers in the dataset? Create a `Series` whose index is the `taster_twitter_handle` category from the dataset, and whose values count how many reviews each person wrote."
   ]
  },
  {
   "cell_type": "code",
   "execution_count": 2,
   "id": "362330fd",
   "metadata": {
    "execution": {
     "iopub.execute_input": "2025-04-12T15:44:03.718649Z",
     "iopub.status.busy": "2025-04-12T15:44:03.718297Z",
     "iopub.status.idle": "2025-04-12T15:44:03.738378Z",
     "shell.execute_reply": "2025-04-12T15:44:03.737459Z"
    },
    "papermill": {
     "duration": 0.027107,
     "end_time": "2025-04-12T15:44:03.740062",
     "exception": false,
     "start_time": "2025-04-12T15:44:03.712955",
     "status": "completed"
    },
    "tags": []
   },
   "outputs": [
    {
     "data": {
      "application/javascript": [
       "parent.postMessage({\"jupyterEvent\": \"custom.exercise_interaction\", \"data\": {\"outcomeType\": 4, \"interactionType\": 1, \"questionType\": 1, \"questionId\": \"1_ReviewsWritten\", \"learnToolsVersion\": \"0.3.5\", \"valueTowardsCompletion\": 0.0, \"failureMessage\": \"\", \"exceptionClass\": \"\", \"trace\": \"\"}}, \"*\")"
      ],
      "text/plain": [
       "<IPython.core.display.Javascript object>"
      ]
     },
     "metadata": {},
     "output_type": "display_data"
    },
    {
     "data": {
      "text/markdown": [
       "<span style=\"color:#ccaa33\">Check:</span> When you've updated the starter code, `check()` will tell you whether your code is correct. Remember, you must create the following variable: `reviews_written`"
      ],
      "text/plain": [
       "Check: When you've updated the starter code, `check()` will tell you whether your code is correct. Remember, you must create the following variable: `reviews_written`"
      ]
     },
     "metadata": {},
     "output_type": "display_data"
    }
   ],
   "source": [
    "reviews_per_reviewer = reviews['taster_name'].value_counts()\n",
    "q1.check()\n"
   ]
  },
  {
   "cell_type": "code",
   "execution_count": 3,
   "id": "4a2fe30d",
   "metadata": {
    "execution": {
     "iopub.execute_input": "2025-04-12T15:44:03.750225Z",
     "iopub.status.busy": "2025-04-12T15:44:03.749884Z",
     "iopub.status.idle": "2025-04-12T15:44:03.754037Z",
     "shell.execute_reply": "2025-04-12T15:44:03.753173Z"
    },
    "papermill": {
     "duration": 0.010966,
     "end_time": "2025-04-12T15:44:03.755636",
     "exception": false,
     "start_time": "2025-04-12T15:44:03.744670",
     "status": "completed"
    },
    "tags": []
   },
   "outputs": [],
   "source": [
    "#q1.hint()\n",
    "#q1.solution()"
   ]
  },
  {
   "cell_type": "markdown",
   "id": "6450d773",
   "metadata": {
    "papermill": {
     "duration": 0.004211,
     "end_time": "2025-04-12T15:44:03.764594",
     "exception": false,
     "start_time": "2025-04-12T15:44:03.760383",
     "status": "completed"
    },
    "tags": []
   },
   "source": [
    "## 2.\n",
    "What is the best wine I can buy for a given amount of money? Create a `Series` whose index is wine prices and whose values is the maximum number of points a wine costing that much was given in a review. Sort the values by price, ascending (so that `4.0` dollars is at the top and `3300.0` dollars is at the bottom)."
   ]
  },
  {
   "cell_type": "code",
   "execution_count": 4,
   "id": "55bc9f2a",
   "metadata": {
    "execution": {
     "iopub.execute_input": "2025-04-12T15:44:03.774938Z",
     "iopub.status.busy": "2025-04-12T15:44:03.774264Z",
     "iopub.status.idle": "2025-04-12T15:44:03.786577Z",
     "shell.execute_reply": "2025-04-12T15:44:03.785399Z"
    },
    "papermill": {
     "duration": 0.019163,
     "end_time": "2025-04-12T15:44:03.788040",
     "exception": false,
     "start_time": "2025-04-12T15:44:03.768877",
     "status": "completed"
    },
    "tags": []
   },
   "outputs": [
    {
     "data": {
      "application/javascript": [
       "parent.postMessage({\"jupyterEvent\": \"custom.exercise_interaction\", \"data\": {\"outcomeType\": 1, \"valueTowardsCompletion\": 0.16666666666666666, \"interactionType\": 1, \"questionType\": 1, \"questionId\": \"2_BestRatingPerPrice\", \"learnToolsVersion\": \"0.3.5\", \"failureMessage\": \"\", \"exceptionClass\": \"\", \"trace\": \"\"}}, \"*\")"
      ],
      "text/plain": [
       "<IPython.core.display.Javascript object>"
      ]
     },
     "metadata": {},
     "output_type": "display_data"
    },
    {
     "data": {
      "text/markdown": [
       "<span style=\"color:#33cc33\">Correct</span>"
      ],
      "text/plain": [
       "Correct"
      ]
     },
     "metadata": {},
     "output_type": "display_data"
    }
   ],
   "source": [
    "best_rating_per_price = reviews.groupby('price')['points'].max()\n",
    "q2.check()\n"
   ]
  },
  {
   "cell_type": "code",
   "execution_count": 5,
   "id": "a64cd8d9",
   "metadata": {
    "execution": {
     "iopub.execute_input": "2025-04-12T15:44:03.799639Z",
     "iopub.status.busy": "2025-04-12T15:44:03.799309Z",
     "iopub.status.idle": "2025-04-12T15:44:03.803558Z",
     "shell.execute_reply": "2025-04-12T15:44:03.802439Z"
    },
    "papermill": {
     "duration": 0.012116,
     "end_time": "2025-04-12T15:44:03.805296",
     "exception": false,
     "start_time": "2025-04-12T15:44:03.793180",
     "status": "completed"
    },
    "tags": []
   },
   "outputs": [],
   "source": [
    "#q2.hint()\n",
    "#q2.solution()"
   ]
  },
  {
   "cell_type": "markdown",
   "id": "a3314e72",
   "metadata": {
    "papermill": {
     "duration": 0.004495,
     "end_time": "2025-04-12T15:44:03.814779",
     "exception": false,
     "start_time": "2025-04-12T15:44:03.810284",
     "status": "completed"
    },
    "tags": []
   },
   "source": [
    "## 3.\n",
    "What are the minimum and maximum prices for each `variety` of wine? Create a `DataFrame` whose index is the `variety` category from the dataset and whose values are the `min` and `max` values thereof."
   ]
  },
  {
   "cell_type": "code",
   "execution_count": 6,
   "id": "376c3a8c",
   "metadata": {
    "execution": {
     "iopub.execute_input": "2025-04-12T15:44:03.825213Z",
     "iopub.status.busy": "2025-04-12T15:44:03.824877Z",
     "iopub.status.idle": "2025-04-12T15:44:03.846905Z",
     "shell.execute_reply": "2025-04-12T15:44:03.845995Z"
    },
    "papermill": {
     "duration": 0.029028,
     "end_time": "2025-04-12T15:44:03.848429",
     "exception": false,
     "start_time": "2025-04-12T15:44:03.819401",
     "status": "completed"
    },
    "tags": []
   },
   "outputs": [
    {
     "data": {
      "application/javascript": [
       "parent.postMessage({\"jupyterEvent\": \"custom.exercise_interaction\", \"data\": {\"outcomeType\": 4, \"interactionType\": 1, \"questionType\": 1, \"questionId\": \"3_PriceExtremes\", \"learnToolsVersion\": \"0.3.5\", \"valueTowardsCompletion\": 0.0, \"failureMessage\": \"\", \"exceptionClass\": \"\", \"trace\": \"\"}}, \"*\")"
      ],
      "text/plain": [
       "<IPython.core.display.Javascript object>"
      ]
     },
     "metadata": {},
     "output_type": "display_data"
    },
    {
     "data": {
      "text/markdown": [
       "<span style=\"color:#ccaa33\">Check:</span> When you've updated the starter code, `check()` will tell you whether your code is correct. Remember, you must create the following variable: `price_extremes`"
      ],
      "text/plain": [
       "Check: When you've updated the starter code, `check()` will tell you whether your code is correct. Remember, you must create the following variable: `price_extremes`"
      ]
     },
     "metadata": {},
     "output_type": "display_data"
    }
   ],
   "source": [
    "reviews['points_to_price'] = reviews['points'] / reviews['price']\n",
    "best_value_wine = reviews.loc[reviews['points_to_price'].idxmax()]\n",
    "q3.check()\n"
   ]
  },
  {
   "cell_type": "code",
   "execution_count": 7,
   "id": "ad4b38f7",
   "metadata": {
    "execution": {
     "iopub.execute_input": "2025-04-12T15:44:03.860255Z",
     "iopub.status.busy": "2025-04-12T15:44:03.859467Z",
     "iopub.status.idle": "2025-04-12T15:44:03.863676Z",
     "shell.execute_reply": "2025-04-12T15:44:03.862898Z"
    },
    "papermill": {
     "duration": 0.011311,
     "end_time": "2025-04-12T15:44:03.864957",
     "exception": false,
     "start_time": "2025-04-12T15:44:03.853646",
     "status": "completed"
    },
    "tags": []
   },
   "outputs": [],
   "source": [
    "#q3.hint()\n",
    "#q3.solution()"
   ]
  },
  {
   "cell_type": "markdown",
   "id": "3964b92f",
   "metadata": {
    "papermill": {
     "duration": 0.004347,
     "end_time": "2025-04-12T15:44:03.874014",
     "exception": false,
     "start_time": "2025-04-12T15:44:03.869667",
     "status": "completed"
    },
    "tags": []
   },
   "source": [
    "## 4.\n",
    "What are the most expensive wine varieties? Create a variable `sorted_varieties` containing a copy of the dataframe from the previous question where varieties are sorted in descending order based on minimum price, then on maximum price (to break ties)."
   ]
  },
  {
   "cell_type": "code",
   "execution_count": 8,
   "id": "0f44f291",
   "metadata": {
    "execution": {
     "iopub.execute_input": "2025-04-12T15:44:03.884648Z",
     "iopub.status.busy": "2025-04-12T15:44:03.884282Z",
     "iopub.status.idle": "2025-04-12T15:44:03.910845Z",
     "shell.execute_reply": "2025-04-12T15:44:03.909739Z"
    },
    "papermill": {
     "duration": 0.03389,
     "end_time": "2025-04-12T15:44:03.912483",
     "exception": false,
     "start_time": "2025-04-12T15:44:03.878593",
     "status": "completed"
    },
    "tags": []
   },
   "outputs": [
    {
     "data": {
      "application/javascript": [
       "parent.postMessage({\"jupyterEvent\": \"custom.exercise_interaction\", \"data\": {\"outcomeType\": 4, \"interactionType\": 1, \"questionType\": 1, \"questionId\": \"6_GroupbyCountryVariety\", \"learnToolsVersion\": \"0.3.5\", \"valueTowardsCompletion\": 0.0, \"failureMessage\": \"\", \"exceptionClass\": \"\", \"trace\": \"\"}}, \"*\")"
      ],
      "text/plain": [
       "<IPython.core.display.Javascript object>"
      ]
     },
     "metadata": {},
     "output_type": "display_data"
    },
    {
     "data": {
      "text/markdown": [
       "<span style=\"color:#ccaa33\">Check:</span> When you've updated the starter code, `check()` will tell you whether your code is correct. Remember, you must create the following variable: `country_variety_counts`"
      ],
      "text/plain": [
       "Check: When you've updated the starter code, `check()` will tell you whether your code is correct. Remember, you must create the following variable: `country_variety_counts`"
      ]
     },
     "metadata": {},
     "output_type": "display_data"
    }
   ],
   "source": [
    "review_counts = reviews.groupby('variety')['points'].agg(['count', 'mean'])\n",
    "sorted_varieties = review_counts.sort_values(by=['count', 'mean'], ascending=False)\n",
    "q6.check()\n"
   ]
  },
  {
   "cell_type": "code",
   "execution_count": 9,
   "id": "68d6afb8",
   "metadata": {
    "execution": {
     "iopub.execute_input": "2025-04-12T15:44:03.923801Z",
     "iopub.status.busy": "2025-04-12T15:44:03.923504Z",
     "iopub.status.idle": "2025-04-12T15:44:03.927507Z",
     "shell.execute_reply": "2025-04-12T15:44:03.926678Z"
    },
    "papermill": {
     "duration": 0.011097,
     "end_time": "2025-04-12T15:44:03.928957",
     "exception": false,
     "start_time": "2025-04-12T15:44:03.917860",
     "status": "completed"
    },
    "tags": []
   },
   "outputs": [],
   "source": [
    "#q4.hint()\n",
    "#q4.solution()"
   ]
  },
  {
   "cell_type": "markdown",
   "id": "129092e4",
   "metadata": {
    "papermill": {
     "duration": 0.004487,
     "end_time": "2025-04-12T15:44:03.938241",
     "exception": false,
     "start_time": "2025-04-12T15:44:03.933754",
     "status": "completed"
    },
    "tags": []
   },
   "source": [
    "## 5.\n",
    "Create a `Series` whose index is reviewers and whose values is the average review score given out by that reviewer. Hint: you will need the `taster_name` and `points` columns."
   ]
  },
  {
   "cell_type": "code",
   "execution_count": 10,
   "id": "5679b472",
   "metadata": {
    "execution": {
     "iopub.execute_input": "2025-04-12T15:44:03.949793Z",
     "iopub.status.busy": "2025-04-12T15:44:03.948849Z",
     "iopub.status.idle": "2025-04-12T15:44:03.970112Z",
     "shell.execute_reply": "2025-04-12T15:44:03.969288Z"
    },
    "papermill": {
     "duration": 0.028825,
     "end_time": "2025-04-12T15:44:03.971788",
     "exception": false,
     "start_time": "2025-04-12T15:44:03.942963",
     "status": "completed"
    },
    "tags": []
   },
   "outputs": [
    {
     "data": {
      "application/javascript": [
       "parent.postMessage({\"jupyterEvent\": \"custom.exercise_interaction\", \"data\": {\"outcomeType\": 4, \"interactionType\": 1, \"questionType\": 1, \"questionId\": \"6_GroupbyCountryVariety\", \"learnToolsVersion\": \"0.3.5\", \"valueTowardsCompletion\": 0.0, \"failureMessage\": \"\", \"exceptionClass\": \"\", \"trace\": \"\"}}, \"*\")"
      ],
      "text/plain": [
       "<IPython.core.display.Javascript object>"
      ]
     },
     "metadata": {},
     "output_type": "display_data"
    },
    {
     "data": {
      "text/markdown": [
       "<span style=\"color:#ccaa33\">Check:</span> When you've updated the starter code, `check()` will tell you whether your code is correct. Remember, you must create the following variable: `country_variety_counts`"
      ],
      "text/plain": [
       "Check: When you've updated the starter code, `check()` will tell you whether your code is correct. Remember, you must create the following variable: `country_variety_counts`"
      ]
     },
     "metadata": {},
     "output_type": "display_data"
    }
   ],
   "source": [
    "taster_avg_ratings = reviews.groupby('taster_name')['points'].mean()\n",
    "q6.check()\n"
   ]
  },
  {
   "cell_type": "code",
   "execution_count": 11,
   "id": "737557e3",
   "metadata": {
    "execution": {
     "iopub.execute_input": "2025-04-12T15:44:03.984041Z",
     "iopub.status.busy": "2025-04-12T15:44:03.983717Z",
     "iopub.status.idle": "2025-04-12T15:44:03.988092Z",
     "shell.execute_reply": "2025-04-12T15:44:03.987202Z"
    },
    "papermill": {
     "duration": 0.012494,
     "end_time": "2025-04-12T15:44:03.989743",
     "exception": false,
     "start_time": "2025-04-12T15:44:03.977249",
     "status": "completed"
    },
    "tags": []
   },
   "outputs": [],
   "source": [
    "#q5.hint()\n",
    "#q5.solution()"
   ]
  },
  {
   "cell_type": "markdown",
   "id": "cb062fb8",
   "metadata": {
    "papermill": {
     "duration": 0.004924,
     "end_time": "2025-04-12T15:44:04.000056",
     "exception": false,
     "start_time": "2025-04-12T15:44:03.995132",
     "status": "completed"
    },
    "tags": []
   },
   "source": [
    "Are there significant differences in the average scores assigned by the various reviewers? Run the cell below to use the `describe()` method to see a summary of the range of values."
   ]
  },
  {
   "cell_type": "code",
   "execution_count": 12,
   "id": "633b9588",
   "metadata": {
    "execution": {
     "iopub.execute_input": "2025-04-12T15:44:04.012450Z",
     "iopub.status.busy": "2025-04-12T15:44:04.012034Z",
     "iopub.status.idle": "2025-04-12T15:44:04.025669Z",
     "shell.execute_reply": "2025-04-12T15:44:04.024676Z"
    },
    "papermill": {
     "duration": 0.021829,
     "end_time": "2025-04-12T15:44:04.027192",
     "exception": false,
     "start_time": "2025-04-12T15:44:04.005363",
     "status": "completed"
    },
    "tags": []
   },
   "outputs": [
    {
     "data": {
      "text/plain": [
       "count    19.000000\n",
       "mean     88.233026\n",
       "std       1.243610\n",
       "min      85.855422\n",
       "25%      87.323501\n",
       "50%      88.536235\n",
       "75%      88.975256\n",
       "max      90.562551\n",
       "Name: points, dtype: float64"
      ]
     },
     "execution_count": 12,
     "metadata": {},
     "output_type": "execute_result"
    }
   ],
   "source": [
    "taster_avg_ratings.describe()\n"
   ]
  },
  {
   "cell_type": "markdown",
   "id": "a90bbf15",
   "metadata": {
    "papermill": {
     "duration": 0.005093,
     "end_time": "2025-04-12T15:44:04.037867",
     "exception": false,
     "start_time": "2025-04-12T15:44:04.032774",
     "status": "completed"
    },
    "tags": []
   },
   "source": [
    "## 6.\n",
    "What combination of countries and varieties are most common? Create a `Series` whose index is a `MultiIndex`of `{country, variety}` pairs. For example, a pinot noir produced in the US should map to `{\"US\", \"Pinot Noir\"}`. Sort the values in the `Series` in descending order based on wine count."
   ]
  },
  {
   "cell_type": "code",
   "execution_count": 13,
   "id": "1c594664",
   "metadata": {
    "execution": {
     "iopub.execute_input": "2025-04-12T15:44:04.049584Z",
     "iopub.status.busy": "2025-04-12T15:44:04.049266Z",
     "iopub.status.idle": "2025-04-12T15:44:04.084792Z",
     "shell.execute_reply": "2025-04-12T15:44:04.083892Z"
    },
    "papermill": {
     "duration": 0.043107,
     "end_time": "2025-04-12T15:44:04.086132",
     "exception": false,
     "start_time": "2025-04-12T15:44:04.043025",
     "status": "completed"
    },
    "tags": []
   },
   "outputs": [
    {
     "data": {
      "application/javascript": [
       "parent.postMessage({\"jupyterEvent\": \"custom.exercise_interaction\", \"data\": {\"outcomeType\": 1, \"valueTowardsCompletion\": 0.16666666666666666, \"interactionType\": 1, \"questionType\": 1, \"questionId\": \"6_GroupbyCountryVariety\", \"learnToolsVersion\": \"0.3.5\", \"failureMessage\": \"\", \"exceptionClass\": \"\", \"trace\": \"\"}}, \"*\")"
      ],
      "text/plain": [
       "<IPython.core.display.Javascript object>"
      ]
     },
     "metadata": {},
     "output_type": "display_data"
    },
    {
     "data": {
      "text/markdown": [
       "<span style=\"color:#33cc33\">Correct</span>"
      ],
      "text/plain": [
       "Correct"
      ]
     },
     "metadata": {},
     "output_type": "display_data"
    }
   ],
   "source": [
    "country_variety_counts = reviews.groupby(['country', 'variety']).size().sort_values(ascending=False)\n",
    "q6.check()\n"
   ]
  },
  {
   "cell_type": "code",
   "execution_count": 14,
   "id": "d29e5736",
   "metadata": {
    "execution": {
     "iopub.execute_input": "2025-04-12T15:44:04.099504Z",
     "iopub.status.busy": "2025-04-12T15:44:04.099221Z",
     "iopub.status.idle": "2025-04-12T15:44:04.103504Z",
     "shell.execute_reply": "2025-04-12T15:44:04.102452Z"
    },
    "papermill": {
     "duration": 0.013095,
     "end_time": "2025-04-12T15:44:04.104968",
     "exception": false,
     "start_time": "2025-04-12T15:44:04.091873",
     "status": "completed"
    },
    "tags": []
   },
   "outputs": [],
   "source": [
    "#q6.hint()\n",
    "#q6.solution()"
   ]
  },
  {
   "cell_type": "markdown",
   "id": "ecbeddfe",
   "metadata": {
    "papermill": {
     "duration": 0.005262,
     "end_time": "2025-04-12T15:44:04.115843",
     "exception": false,
     "start_time": "2025-04-12T15:44:04.110581",
     "status": "completed"
    },
    "tags": []
   },
   "source": [
    "# Keep going\n",
    "\n",
    "Move on to the [**data types and missing data**](https://www.kaggle.com/residentmario/data-types-and-missing-values)."
   ]
  },
  {
   "cell_type": "markdown",
   "id": "1cf4ecf3",
   "metadata": {
    "papermill": {
     "duration": 0.004988,
     "end_time": "2025-04-12T15:44:04.126040",
     "exception": false,
     "start_time": "2025-04-12T15:44:04.121052",
     "status": "completed"
    },
    "tags": []
   },
   "source": [
    "---\n",
    "\n",
    "\n",
    "\n",
    "\n",
    "*Have questions or comments? Visit the [course discussion forum](https://www.kaggle.com/learn/pandas/discussion) to chat with other learners.*"
   ]
  }
 ],
 "metadata": {
  "kaggle": {
   "accelerator": "none",
   "dataSources": [
    {
     "datasetId": 655,
     "sourceId": 1252,
     "sourceType": "datasetVersion"
    },
    {
     "datasetId": 2321,
     "sourceId": 3919,
     "sourceType": "datasetVersion"
    },
    {
     "datasetId": 2894,
     "sourceId": 4877,
     "sourceType": "datasetVersion"
    },
    {
     "datasetId": 3491,
     "sourceId": 5624,
     "sourceType": "datasetVersion"
    },
    {
     "datasetId": 1442,
     "sourceId": 8172,
     "sourceType": "datasetVersion"
    },
    {
     "datasetId": 9366,
     "sourceId": 13206,
     "sourceType": "datasetVersion"
    },
    {
     "datasetId": 179555,
     "sourceId": 403916,
     "sourceType": "datasetVersion"
    },
    {
     "datasetId": 4549,
     "sourceId": 466349,
     "sourceType": "datasetVersion"
    },
    {
     "datasetId": 2478,
     "sourceId": 1151655,
     "sourceType": "datasetVersion"
    },
    {
     "datasetId": 10128,
     "sourceId": 5438389,
     "sourceType": "datasetVersion"
    }
   ],
   "isGpuEnabled": false,
   "isInternetEnabled": false,
   "language": "python",
   "sourceType": "notebook"
  },
  "kernelspec": {
   "display_name": "Python 3",
   "language": "python",
   "name": "python3"
  },
  "language_info": {
   "codemirror_mode": {
    "name": "ipython",
    "version": 3
   },
   "file_extension": ".py",
   "mimetype": "text/x-python",
   "name": "python",
   "nbconvert_exporter": "python",
   "pygments_lexer": "ipython3",
   "version": "3.11.11"
  },
  "papermill": {
   "default_parameters": {},
   "duration": 11.564005,
   "end_time": "2025-04-12T15:44:04.651388",
   "environment_variables": {},
   "exception": null,
   "input_path": "__notebook__.ipynb",
   "output_path": "__notebook__.ipynb",
   "parameters": {},
   "start_time": "2025-04-12T15:43:53.087383",
   "version": "2.6.0"
  }
 },
 "nbformat": 4,
 "nbformat_minor": 5
}
