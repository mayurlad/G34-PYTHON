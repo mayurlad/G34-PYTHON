{
 "cells": [
  {
   "cell_type": "markdown",
   "id": "a37f1db3",
   "metadata": {
    "papermill": {
     "duration": 0.004248,
     "end_time": "2025-04-12T15:54:31.311106",
     "exception": false,
     "start_time": "2025-04-12T15:54:31.306858",
     "status": "completed"
    },
    "tags": []
   },
   "source": [
    "**This notebook is an exercise in the [Pandas](https://www.kaggle.com/learn/pandas) course.  You can reference the tutorial at [this link](https://www.kaggle.com/residentmario/data-types-and-missing-values).**\n",
    "\n",
    "---\n"
   ]
  },
  {
   "cell_type": "markdown",
   "id": "08764188",
   "metadata": {
    "papermill": {
     "duration": 0.00309,
     "end_time": "2025-04-12T15:54:31.318162",
     "exception": false,
     "start_time": "2025-04-12T15:54:31.315072",
     "status": "completed"
    },
    "tags": []
   },
   "source": [
    "# Introduction\n",
    "\n",
    "Run the following cell to load your data and some utility functions."
   ]
  },
  {
   "cell_type": "code",
   "execution_count": 1,
   "id": "496b5fc6",
   "metadata": {
    "execution": {
     "iopub.execute_input": "2025-04-12T15:54:31.327132Z",
     "iopub.status.busy": "2025-04-12T15:54:31.326413Z",
     "iopub.status.idle": "2025-04-12T15:54:36.661611Z",
     "shell.execute_reply": "2025-04-12T15:54:36.660540Z"
    },
    "papermill": {
     "duration": 5.341771,
     "end_time": "2025-04-12T15:54:36.663311",
     "exception": false,
     "start_time": "2025-04-12T15:54:31.321540",
     "status": "completed"
    },
    "tags": []
   },
   "outputs": [
    {
     "name": "stdout",
     "output_type": "stream",
     "text": [
      "Setup complete.\n"
     ]
    }
   ],
   "source": [
    "import pandas as pd\n",
    "\n",
    "reviews = pd.read_csv(\"../input/wine-reviews/winemag-data-130k-v2.csv\", index_col=0)\n",
    "\n",
    "from learntools.core import binder; binder.bind(globals())\n",
    "from learntools.pandas.data_types_and_missing_data import *\n",
    "print(\"Setup complete.\")"
   ]
  },
  {
   "cell_type": "markdown",
   "id": "05500ed1",
   "metadata": {
    "papermill": {
     "duration": 0.003449,
     "end_time": "2025-04-12T15:54:36.670533",
     "exception": false,
     "start_time": "2025-04-12T15:54:36.667084",
     "status": "completed"
    },
    "tags": []
   },
   "source": [
    "# Exercises"
   ]
  },
  {
   "cell_type": "markdown",
   "id": "ec4f47b3",
   "metadata": {
    "papermill": {
     "duration": 0.002921,
     "end_time": "2025-04-12T15:54:36.676975",
     "exception": false,
     "start_time": "2025-04-12T15:54:36.674054",
     "status": "completed"
    },
    "tags": []
   },
   "source": [
    "## 1. \n",
    "What is the data type of the `points` column in the dataset?"
   ]
  },
  {
   "cell_type": "code",
   "execution_count": 2,
   "id": "61a0958a",
   "metadata": {
    "execution": {
     "iopub.execute_input": "2025-04-12T15:54:36.684833Z",
     "iopub.status.busy": "2025-04-12T15:54:36.684441Z",
     "iopub.status.idle": "2025-04-12T15:54:36.689817Z",
     "shell.execute_reply": "2025-04-12T15:54:36.688821Z"
    },
    "papermill": {
     "duration": 0.011136,
     "end_time": "2025-04-12T15:54:36.691273",
     "exception": false,
     "start_time": "2025-04-12T15:54:36.680137",
     "status": "completed"
    },
    "tags": []
   },
   "outputs": [
    {
     "name": "stdout",
     "output_type": "stream",
     "text": [
      "int64\n"
     ]
    }
   ],
   "source": [
    "dtype_points = reviews['points'].dtype\n",
    "print(dtype_points)\n"
   ]
  },
  {
   "cell_type": "code",
   "execution_count": 3,
   "id": "623cce77",
   "metadata": {
    "execution": {
     "iopub.execute_input": "2025-04-12T15:54:36.699454Z",
     "iopub.status.busy": "2025-04-12T15:54:36.699156Z",
     "iopub.status.idle": "2025-04-12T15:54:36.703415Z",
     "shell.execute_reply": "2025-04-12T15:54:36.702578Z"
    },
    "papermill": {
     "duration": 0.010078,
     "end_time": "2025-04-12T15:54:36.704980",
     "exception": false,
     "start_time": "2025-04-12T15:54:36.694902",
     "status": "completed"
    },
    "tags": []
   },
   "outputs": [],
   "source": [
    "#q1.hint()\n",
    "#q1.solution()"
   ]
  },
  {
   "cell_type": "markdown",
   "id": "725c0fee",
   "metadata": {
    "papermill": {
     "duration": 0.003156,
     "end_time": "2025-04-12T15:54:36.711683",
     "exception": false,
     "start_time": "2025-04-12T15:54:36.708527",
     "status": "completed"
    },
    "tags": []
   },
   "source": [
    "## 2. \n",
    "Create a Series from entries in the `points` column, but convert the entries to strings. Hint: strings are `str` in native Python."
   ]
  },
  {
   "cell_type": "code",
   "execution_count": 4,
   "id": "358ab453",
   "metadata": {
    "execution": {
     "iopub.execute_input": "2025-04-12T15:54:36.719621Z",
     "iopub.status.busy": "2025-04-12T15:54:36.719270Z",
     "iopub.status.idle": "2025-04-12T15:54:36.759947Z",
     "shell.execute_reply": "2025-04-12T15:54:36.758827Z"
    },
    "papermill": {
     "duration": 0.046526,
     "end_time": "2025-04-12T15:54:36.761496",
     "exception": false,
     "start_time": "2025-04-12T15:54:36.714970",
     "status": "completed"
    },
    "tags": []
   },
   "outputs": [
    {
     "name": "stdout",
     "output_type": "stream",
     "text": [
      "0         87\n",
      "1         87\n",
      "2         87\n",
      "3         87\n",
      "4         87\n",
      "          ..\n",
      "129966    90\n",
      "129967    90\n",
      "129968    90\n",
      "129969    90\n",
      "129970    90\n",
      "Name: points, Length: 129971, dtype: object\n"
     ]
    }
   ],
   "source": [
    "points_as_strings = reviews['points'].astype(str)\n",
    "print(points_as_strings)\n"
   ]
  },
  {
   "cell_type": "code",
   "execution_count": 5,
   "id": "5b058b0e",
   "metadata": {
    "execution": {
     "iopub.execute_input": "2025-04-12T15:54:36.769918Z",
     "iopub.status.busy": "2025-04-12T15:54:36.769621Z",
     "iopub.status.idle": "2025-04-12T15:54:36.773781Z",
     "shell.execute_reply": "2025-04-12T15:54:36.772800Z"
    },
    "papermill": {
     "duration": 0.010201,
     "end_time": "2025-04-12T15:54:36.775321",
     "exception": false,
     "start_time": "2025-04-12T15:54:36.765120",
     "status": "completed"
    },
    "tags": []
   },
   "outputs": [],
   "source": [
    "#q2.hint()\n",
    "#q2.solution()"
   ]
  },
  {
   "cell_type": "markdown",
   "id": "56291eb2",
   "metadata": {
    "papermill": {
     "duration": 0.003283,
     "end_time": "2025-04-12T15:54:36.782407",
     "exception": false,
     "start_time": "2025-04-12T15:54:36.779124",
     "status": "completed"
    },
    "tags": []
   },
   "source": [
    "## 3.\n",
    "Sometimes the price column is null. How many reviews in the dataset are missing a price?"
   ]
  },
  {
   "cell_type": "code",
   "execution_count": 6,
   "id": "41324e3a",
   "metadata": {
    "execution": {
     "iopub.execute_input": "2025-04-12T15:54:36.790983Z",
     "iopub.status.busy": "2025-04-12T15:54:36.790644Z",
     "iopub.status.idle": "2025-04-12T15:54:36.796763Z",
     "shell.execute_reply": "2025-04-12T15:54:36.795826Z"
    },
    "papermill": {
     "duration": 0.012103,
     "end_time": "2025-04-12T15:54:36.798089",
     "exception": false,
     "start_time": "2025-04-12T15:54:36.785986",
     "status": "completed"
    },
    "tags": []
   },
   "outputs": [
    {
     "name": "stdout",
     "output_type": "stream",
     "text": [
      "8996\n"
     ]
    }
   ],
   "source": [
    "missing_price_count = reviews['price'].isnull().sum()\n",
    "print(missing_price_count)\n"
   ]
  },
  {
   "cell_type": "code",
   "execution_count": 7,
   "id": "b7ee8998",
   "metadata": {
    "execution": {
     "iopub.execute_input": "2025-04-12T15:54:36.806487Z",
     "iopub.status.busy": "2025-04-12T15:54:36.806183Z",
     "iopub.status.idle": "2025-04-12T15:54:36.810455Z",
     "shell.execute_reply": "2025-04-12T15:54:36.809402Z"
    },
    "papermill": {
     "duration": 0.010333,
     "end_time": "2025-04-12T15:54:36.812055",
     "exception": false,
     "start_time": "2025-04-12T15:54:36.801722",
     "status": "completed"
    },
    "tags": []
   },
   "outputs": [],
   "source": [
    "#q3.hint()\n",
    "#q3.solution()"
   ]
  },
  {
   "cell_type": "markdown",
   "id": "4cb7905e",
   "metadata": {
    "papermill": {
     "duration": 0.003316,
     "end_time": "2025-04-12T15:54:36.819388",
     "exception": false,
     "start_time": "2025-04-12T15:54:36.816072",
     "status": "completed"
    },
    "tags": []
   },
   "source": [
    "## 4.\n",
    "What are the most common wine-producing regions? Create a Series counting the number of times each value occurs in the `region_1` field. This field is often missing data, so replace missing values with `Unknown`. Sort in descending order.  Your output should look something like this:\n",
    "\n",
    "```\n",
    "Unknown                    21247\n",
    "Napa Valley                 4480\n",
    "                           ...  \n",
    "Bardolino Superiore            1\n",
    "Primitivo del Tarantino        1\n",
    "Name: region_1, Length: 1230, dtype: int64\n",
    "```"
   ]
  },
  {
   "cell_type": "code",
   "execution_count": 8,
   "id": "e122b58c",
   "metadata": {
    "execution": {
     "iopub.execute_input": "2025-04-12T15:54:36.827486Z",
     "iopub.status.busy": "2025-04-12T15:54:36.827181Z",
     "iopub.status.idle": "2025-04-12T15:54:36.855794Z",
     "shell.execute_reply": "2025-04-12T15:54:36.854832Z"
    },
    "papermill": {
     "duration": 0.034878,
     "end_time": "2025-04-12T15:54:36.857686",
     "exception": false,
     "start_time": "2025-04-12T15:54:36.822808",
     "status": "completed"
    },
    "tags": []
   },
   "outputs": [
    {
     "name": "stdout",
     "output_type": "stream",
     "text": [
      "region_1\n",
      "Unknown                    21247\n",
      "Napa Valley                 4480\n",
      "Columbia Valley (WA)        4124\n",
      "Russian River Valley        3091\n",
      "California                  2629\n",
      "                           ...  \n",
      "Lamezia                        1\n",
      "Trentino Superiore             1\n",
      "Grave del Friuli               1\n",
      "Vin Santo di Carmignano        1\n",
      "Paestum                        1\n",
      "Name: count, Length: 1230, dtype: int64\n"
     ]
    }
   ],
   "source": [
    "region_counts = reviews['region_1'].fillna('Unknown').value_counts()\n",
    "print(region_counts)\n"
   ]
  },
  {
   "cell_type": "code",
   "execution_count": 9,
   "id": "1b114598",
   "metadata": {
    "execution": {
     "iopub.execute_input": "2025-04-12T15:54:36.867188Z",
     "iopub.status.busy": "2025-04-12T15:54:36.866054Z",
     "iopub.status.idle": "2025-04-12T15:54:36.870517Z",
     "shell.execute_reply": "2025-04-12T15:54:36.869639Z"
    },
    "papermill": {
     "duration": 0.010497,
     "end_time": "2025-04-12T15:54:36.872042",
     "exception": false,
     "start_time": "2025-04-12T15:54:36.861545",
     "status": "completed"
    },
    "tags": []
   },
   "outputs": [],
   "source": [
    "#q4.hint()\n",
    "#q4.solution()"
   ]
  },
  {
   "cell_type": "markdown",
   "id": "bb4ab53b",
   "metadata": {
    "papermill": {
     "duration": 0.003411,
     "end_time": "2025-04-12T15:54:36.879348",
     "exception": false,
     "start_time": "2025-04-12T15:54:36.875937",
     "status": "completed"
    },
    "tags": []
   },
   "source": [
    "# Keep going\n",
    "\n",
    "Move on to **[renaming and combining](https://www.kaggle.com/residentmario/renaming-and-combining)**."
   ]
  },
  {
   "cell_type": "markdown",
   "id": "3b9d3e5c",
   "metadata": {
    "papermill": {
     "duration": 0.003439,
     "end_time": "2025-04-12T15:54:36.886840",
     "exception": false,
     "start_time": "2025-04-12T15:54:36.883401",
     "status": "completed"
    },
    "tags": []
   },
   "source": [
    "---\n",
    "\n",
    "\n",
    "\n",
    "\n",
    "*Have questions or comments? Visit the [course discussion forum](https://www.kaggle.com/learn/pandas/discussion) to chat with other learners.*"
   ]
  }
 ],
 "metadata": {
  "kaggle": {
   "accelerator": "none",
   "dataSources": [
    {
     "datasetId": 655,
     "sourceId": 1252,
     "sourceType": "datasetVersion"
    },
    {
     "datasetId": 2321,
     "sourceId": 3919,
     "sourceType": "datasetVersion"
    },
    {
     "datasetId": 2894,
     "sourceId": 4877,
     "sourceType": "datasetVersion"
    },
    {
     "datasetId": 3491,
     "sourceId": 5624,
     "sourceType": "datasetVersion"
    },
    {
     "datasetId": 1442,
     "sourceId": 8172,
     "sourceType": "datasetVersion"
    },
    {
     "datasetId": 9366,
     "sourceId": 13206,
     "sourceType": "datasetVersion"
    },
    {
     "datasetId": 179555,
     "sourceId": 403916,
     "sourceType": "datasetVersion"
    },
    {
     "datasetId": 4549,
     "sourceId": 466349,
     "sourceType": "datasetVersion"
    },
    {
     "datasetId": 2478,
     "sourceId": 1151655,
     "sourceType": "datasetVersion"
    },
    {
     "datasetId": 10128,
     "sourceId": 5438389,
     "sourceType": "datasetVersion"
    }
   ],
   "isGpuEnabled": false,
   "isInternetEnabled": false,
   "language": "python",
   "sourceType": "notebook"
  },
  "kernelspec": {
   "display_name": "Python 3",
   "language": "python",
   "name": "python3"
  },
  "language_info": {
   "codemirror_mode": {
    "name": "ipython",
    "version": 3
   },
   "file_extension": ".py",
   "mimetype": "text/x-python",
   "name": "python",
   "nbconvert_exporter": "python",
   "pygments_lexer": "ipython3",
   "version": "3.11.11"
  },
  "papermill": {
   "default_parameters": {},
   "duration": 11.672394,
   "end_time": "2025-04-12T15:54:37.511319",
   "environment_variables": {},
   "exception": null,
   "input_path": "__notebook__.ipynb",
   "output_path": "__notebook__.ipynb",
   "parameters": {},
   "start_time": "2025-04-12T15:54:25.838925",
   "version": "2.6.0"
  }
 },
 "nbformat": 4,
 "nbformat_minor": 5
}
