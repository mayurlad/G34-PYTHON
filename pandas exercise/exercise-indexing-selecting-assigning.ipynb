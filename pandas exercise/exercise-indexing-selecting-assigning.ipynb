{
 "cells": [
  {
   "cell_type": "markdown",
   "id": "a7aff168",
   "metadata": {
    "papermill": {
     "duration": 0.006475,
     "end_time": "2025-04-12T15:23:35.597510",
     "exception": false,
     "start_time": "2025-04-12T15:23:35.591035",
     "status": "completed"
    },
    "tags": []
   },
   "source": [
    "**This notebook is an exercise in the [Pandas](https://www.kaggle.com/learn/pandas) course.  You can reference the tutorial at [this link](https://www.kaggle.com/residentmario/indexing-selecting-assigning).**\n",
    "\n",
    "---\n"
   ]
  },
  {
   "cell_type": "markdown",
   "id": "1b78939f",
   "metadata": {
    "papermill": {
     "duration": 0.005061,
     "end_time": "2025-04-12T15:23:35.608327",
     "exception": false,
     "start_time": "2025-04-12T15:23:35.603266",
     "status": "completed"
    },
    "tags": []
   },
   "source": [
    "# Introduction\n",
    "\n",
    "In this set of exercises we will work with the [Wine Reviews dataset](https://www.kaggle.com/zynicide/wine-reviews). "
   ]
  },
  {
   "cell_type": "markdown",
   "id": "05ae83c1",
   "metadata": {
    "papermill": {
     "duration": 0.006666,
     "end_time": "2025-04-12T15:23:35.620722",
     "exception": false,
     "start_time": "2025-04-12T15:23:35.614056",
     "status": "completed"
    },
    "tags": []
   },
   "source": [
    "Run the following cell to load your data and some utility functions (including code to check your answers)."
   ]
  },
  {
   "cell_type": "code",
   "execution_count": 1,
   "id": "ed6e353d",
   "metadata": {
    "execution": {
     "iopub.execute_input": "2025-04-12T15:23:35.634083Z",
     "iopub.status.busy": "2025-04-12T15:23:35.632858Z",
     "iopub.status.idle": "2025-04-12T15:23:40.982522Z",
     "shell.execute_reply": "2025-04-12T15:23:40.981269Z"
    },
    "papermill": {
     "duration": 5.358101,
     "end_time": "2025-04-12T15:23:40.984129",
     "exception": false,
     "start_time": "2025-04-12T15:23:35.626028",
     "status": "completed"
    },
    "tags": []
   },
   "outputs": [
    {
     "name": "stdout",
     "output_type": "stream",
     "text": [
      "Setup complete.\n"
     ]
    }
   ],
   "source": [
    "import pandas as pd\n",
    "\n",
    "reviews = pd.read_csv(\"../input/wine-reviews/winemag-data-130k-v2.csv\", index_col=0)\n",
    "pd.set_option(\"display.max_rows\", 5)\n",
    "\n",
    "from learntools.core import binder; binder.bind(globals())\n",
    "from learntools.pandas.indexing_selecting_and_assigning import *\n",
    "print(\"Setup complete.\")"
   ]
  },
  {
   "cell_type": "markdown",
   "id": "8870fbc0",
   "metadata": {
    "papermill": {
     "duration": 0.005685,
     "end_time": "2025-04-12T15:23:40.995452",
     "exception": false,
     "start_time": "2025-04-12T15:23:40.989767",
     "status": "completed"
    },
    "tags": []
   },
   "source": [
    "Look at an overview of your data by running the following line."
   ]
  },
  {
   "cell_type": "code",
   "execution_count": 2,
   "id": "2f5349a3",
   "metadata": {
    "execution": {
     "iopub.execute_input": "2025-04-12T15:23:41.007056Z",
     "iopub.status.busy": "2025-04-12T15:23:41.006764Z",
     "iopub.status.idle": "2025-04-12T15:23:41.034219Z",
     "shell.execute_reply": "2025-04-12T15:23:41.033002Z"
    },
    "papermill": {
     "duration": 0.035506,
     "end_time": "2025-04-12T15:23:41.036049",
     "exception": false,
     "start_time": "2025-04-12T15:23:41.000543",
     "status": "completed"
    },
    "tags": []
   },
   "outputs": [
    {
     "name": "stderr",
     "output_type": "stream",
     "text": [
      "/usr/local/lib/python3.11/dist-packages/pandas/io/formats/format.py:1458: RuntimeWarning: invalid value encountered in greater\n",
      "  has_large_values = (abs_vals > 1e6).any()\n",
      "/usr/local/lib/python3.11/dist-packages/pandas/io/formats/format.py:1459: RuntimeWarning: invalid value encountered in less\n",
      "  has_small_values = ((abs_vals < 10 ** (-self.digits)) & (abs_vals > 0)).any()\n",
      "/usr/local/lib/python3.11/dist-packages/pandas/io/formats/format.py:1459: RuntimeWarning: invalid value encountered in greater\n",
      "  has_small_values = ((abs_vals < 10 ** (-self.digits)) & (abs_vals > 0)).any()\n"
     ]
    },
    {
     "data": {
      "text/html": [
       "<div>\n",
       "<style scoped>\n",
       "    .dataframe tbody tr th:only-of-type {\n",
       "        vertical-align: middle;\n",
       "    }\n",
       "\n",
       "    .dataframe tbody tr th {\n",
       "        vertical-align: top;\n",
       "    }\n",
       "\n",
       "    .dataframe thead th {\n",
       "        text-align: right;\n",
       "    }\n",
       "</style>\n",
       "<table border=\"1\" class=\"dataframe\">\n",
       "  <thead>\n",
       "    <tr style=\"text-align: right;\">\n",
       "      <th></th>\n",
       "      <th>country</th>\n",
       "      <th>description</th>\n",
       "      <th>designation</th>\n",
       "      <th>points</th>\n",
       "      <th>price</th>\n",
       "      <th>province</th>\n",
       "      <th>region_1</th>\n",
       "      <th>region_2</th>\n",
       "      <th>taster_name</th>\n",
       "      <th>taster_twitter_handle</th>\n",
       "      <th>title</th>\n",
       "      <th>variety</th>\n",
       "      <th>winery</th>\n",
       "    </tr>\n",
       "  </thead>\n",
       "  <tbody>\n",
       "    <tr>\n",
       "      <th>0</th>\n",
       "      <td>Italy</td>\n",
       "      <td>Aromas include tropical fruit, broom, brimston...</td>\n",
       "      <td>Vulkà Bianco</td>\n",
       "      <td>87</td>\n",
       "      <td>NaN</td>\n",
       "      <td>Sicily &amp; Sardinia</td>\n",
       "      <td>Etna</td>\n",
       "      <td>NaN</td>\n",
       "      <td>Kerin O’Keefe</td>\n",
       "      <td>@kerinokeefe</td>\n",
       "      <td>Nicosia 2013 Vulkà Bianco  (Etna)</td>\n",
       "      <td>White Blend</td>\n",
       "      <td>Nicosia</td>\n",
       "    </tr>\n",
       "    <tr>\n",
       "      <th>1</th>\n",
       "      <td>Portugal</td>\n",
       "      <td>This is ripe and fruity, a wine that is smooth...</td>\n",
       "      <td>Avidagos</td>\n",
       "      <td>87</td>\n",
       "      <td>15.0</td>\n",
       "      <td>Douro</td>\n",
       "      <td>NaN</td>\n",
       "      <td>NaN</td>\n",
       "      <td>Roger Voss</td>\n",
       "      <td>@vossroger</td>\n",
       "      <td>Quinta dos Avidagos 2011 Avidagos Red (Douro)</td>\n",
       "      <td>Portuguese Red</td>\n",
       "      <td>Quinta dos Avidagos</td>\n",
       "    </tr>\n",
       "    <tr>\n",
       "      <th>2</th>\n",
       "      <td>US</td>\n",
       "      <td>Tart and snappy, the flavors of lime flesh and...</td>\n",
       "      <td>NaN</td>\n",
       "      <td>87</td>\n",
       "      <td>14.0</td>\n",
       "      <td>Oregon</td>\n",
       "      <td>Willamette Valley</td>\n",
       "      <td>Willamette Valley</td>\n",
       "      <td>Paul Gregutt</td>\n",
       "      <td>@paulgwine</td>\n",
       "      <td>Rainstorm 2013 Pinot Gris (Willamette Valley)</td>\n",
       "      <td>Pinot Gris</td>\n",
       "      <td>Rainstorm</td>\n",
       "    </tr>\n",
       "    <tr>\n",
       "      <th>3</th>\n",
       "      <td>US</td>\n",
       "      <td>Pineapple rind, lemon pith and orange blossom ...</td>\n",
       "      <td>Reserve Late Harvest</td>\n",
       "      <td>87</td>\n",
       "      <td>13.0</td>\n",
       "      <td>Michigan</td>\n",
       "      <td>Lake Michigan Shore</td>\n",
       "      <td>NaN</td>\n",
       "      <td>Alexander Peartree</td>\n",
       "      <td>NaN</td>\n",
       "      <td>St. Julian 2013 Reserve Late Harvest Riesling ...</td>\n",
       "      <td>Riesling</td>\n",
       "      <td>St. Julian</td>\n",
       "    </tr>\n",
       "    <tr>\n",
       "      <th>4</th>\n",
       "      <td>US</td>\n",
       "      <td>Much like the regular bottling from 2012, this...</td>\n",
       "      <td>Vintner's Reserve Wild Child Block</td>\n",
       "      <td>87</td>\n",
       "      <td>65.0</td>\n",
       "      <td>Oregon</td>\n",
       "      <td>Willamette Valley</td>\n",
       "      <td>Willamette Valley</td>\n",
       "      <td>Paul Gregutt</td>\n",
       "      <td>@paulgwine</td>\n",
       "      <td>Sweet Cheeks 2012 Vintner's Reserve Wild Child...</td>\n",
       "      <td>Pinot Noir</td>\n",
       "      <td>Sweet Cheeks</td>\n",
       "    </tr>\n",
       "  </tbody>\n",
       "</table>\n",
       "</div>"
      ],
      "text/plain": [
       "    country                                        description  \\\n",
       "0     Italy  Aromas include tropical fruit, broom, brimston...   \n",
       "1  Portugal  This is ripe and fruity, a wine that is smooth...   \n",
       "2        US  Tart and snappy, the flavors of lime flesh and...   \n",
       "3        US  Pineapple rind, lemon pith and orange blossom ...   \n",
       "4        US  Much like the regular bottling from 2012, this...   \n",
       "\n",
       "                          designation  points  price           province  \\\n",
       "0                        Vulkà Bianco      87    NaN  Sicily & Sardinia   \n",
       "1                            Avidagos      87   15.0              Douro   \n",
       "2                                 NaN      87   14.0             Oregon   \n",
       "3                Reserve Late Harvest      87   13.0           Michigan   \n",
       "4  Vintner's Reserve Wild Child Block      87   65.0             Oregon   \n",
       "\n",
       "              region_1           region_2         taster_name  \\\n",
       "0                 Etna                NaN       Kerin O’Keefe   \n",
       "1                  NaN                NaN          Roger Voss   \n",
       "2    Willamette Valley  Willamette Valley        Paul Gregutt   \n",
       "3  Lake Michigan Shore                NaN  Alexander Peartree   \n",
       "4    Willamette Valley  Willamette Valley        Paul Gregutt   \n",
       "\n",
       "  taster_twitter_handle                                              title  \\\n",
       "0          @kerinokeefe                  Nicosia 2013 Vulkà Bianco  (Etna)   \n",
       "1            @vossroger      Quinta dos Avidagos 2011 Avidagos Red (Douro)   \n",
       "2           @paulgwine       Rainstorm 2013 Pinot Gris (Willamette Valley)   \n",
       "3                   NaN  St. Julian 2013 Reserve Late Harvest Riesling ...   \n",
       "4           @paulgwine   Sweet Cheeks 2012 Vintner's Reserve Wild Child...   \n",
       "\n",
       "          variety               winery  \n",
       "0     White Blend              Nicosia  \n",
       "1  Portuguese Red  Quinta dos Avidagos  \n",
       "2      Pinot Gris            Rainstorm  \n",
       "3        Riesling           St. Julian  \n",
       "4      Pinot Noir         Sweet Cheeks  "
      ]
     },
     "execution_count": 2,
     "metadata": {},
     "output_type": "execute_result"
    }
   ],
   "source": [
    "reviews.head()"
   ]
  },
  {
   "cell_type": "markdown",
   "id": "ec3ea8a4",
   "metadata": {
    "papermill": {
     "duration": 0.005383,
     "end_time": "2025-04-12T15:23:41.047258",
     "exception": false,
     "start_time": "2025-04-12T15:23:41.041875",
     "status": "completed"
    },
    "tags": []
   },
   "source": [
    "# Exercises"
   ]
  },
  {
   "cell_type": "markdown",
   "id": "031543e8",
   "metadata": {
    "papermill": {
     "duration": 0.005319,
     "end_time": "2025-04-12T15:23:41.058112",
     "exception": false,
     "start_time": "2025-04-12T15:23:41.052793",
     "status": "completed"
    },
    "tags": []
   },
   "source": [
    "## 1.\n",
    "\n",
    "Select the `description` column from `reviews` and assign the result to the variable `desc`."
   ]
  },
  {
   "cell_type": "code",
   "execution_count": 3,
   "id": "95a2f9b0",
   "metadata": {
    "execution": {
     "iopub.execute_input": "2025-04-12T15:23:41.071516Z",
     "iopub.status.busy": "2025-04-12T15:23:41.070357Z",
     "iopub.status.idle": "2025-04-12T15:23:41.079056Z",
     "shell.execute_reply": "2025-04-12T15:23:41.078236Z"
    },
    "papermill": {
     "duration": 0.016946,
     "end_time": "2025-04-12T15:23:41.080554",
     "exception": false,
     "start_time": "2025-04-12T15:23:41.063608",
     "status": "completed"
    },
    "tags": []
   },
   "outputs": [
    {
     "data": {
      "application/javascript": [
       "parent.postMessage({\"jupyterEvent\": \"custom.exercise_interaction\", \"data\": {\"outcomeType\": 1, \"valueTowardsCompletion\": 0.1111111111111111, \"interactionType\": 1, \"questionType\": 1, \"questionId\": \"1_SelectDescCol\", \"learnToolsVersion\": \"0.3.5\", \"failureMessage\": \"\", \"exceptionClass\": \"\", \"trace\": \"\"}}, \"*\")"
      ],
      "text/plain": [
       "<IPython.core.display.Javascript object>"
      ]
     },
     "metadata": {},
     "output_type": "display_data"
    },
    {
     "data": {
      "text/markdown": [
       "<span style=\"color:#33cc33\">Correct</span>"
      ],
      "text/plain": [
       "Correct"
      ]
     },
     "metadata": {},
     "output_type": "display_data"
    }
   ],
   "source": [
    "desc = reviews['description']\n",
    "q1.check()\n"
   ]
  },
  {
   "cell_type": "markdown",
   "id": "b158c334",
   "metadata": {
    "papermill": {
     "duration": 0.005441,
     "end_time": "2025-04-12T15:23:41.091958",
     "exception": false,
     "start_time": "2025-04-12T15:23:41.086517",
     "status": "completed"
    },
    "tags": []
   },
   "source": [
    "Follow-up question: what type of object is `desc`? If you're not sure, you can check by calling Python's `type` function: `type(desc)`."
   ]
  },
  {
   "cell_type": "code",
   "execution_count": 4,
   "id": "a7492641",
   "metadata": {
    "execution": {
     "iopub.execute_input": "2025-04-12T15:23:41.105055Z",
     "iopub.status.busy": "2025-04-12T15:23:41.104692Z",
     "iopub.status.idle": "2025-04-12T15:23:41.109304Z",
     "shell.execute_reply": "2025-04-12T15:23:41.108375Z"
    },
    "papermill": {
     "duration": 0.013508,
     "end_time": "2025-04-12T15:23:41.111012",
     "exception": false,
     "start_time": "2025-04-12T15:23:41.097504",
     "status": "completed"
    },
    "tags": []
   },
   "outputs": [],
   "source": [
    "#q1.hint()\n",
    "#q1.solution()"
   ]
  },
  {
   "cell_type": "markdown",
   "id": "06f4fd6a",
   "metadata": {
    "papermill": {
     "duration": 0.005655,
     "end_time": "2025-04-12T15:23:41.122464",
     "exception": false,
     "start_time": "2025-04-12T15:23:41.116809",
     "status": "completed"
    },
    "tags": []
   },
   "source": [
    "## 2.\n",
    "\n",
    "Select the first value from the description column of `reviews`, assigning it to variable `first_description`."
   ]
  },
  {
   "cell_type": "code",
   "execution_count": 5,
   "id": "efb1af16",
   "metadata": {
    "execution": {
     "iopub.execute_input": "2025-04-12T15:23:41.135798Z",
     "iopub.status.busy": "2025-04-12T15:23:41.135454Z",
     "iopub.status.idle": "2025-04-12T15:23:41.144105Z",
     "shell.execute_reply": "2025-04-12T15:23:41.143142Z"
    },
    "papermill": {
     "duration": 0.017545,
     "end_time": "2025-04-12T15:23:41.145749",
     "exception": false,
     "start_time": "2025-04-12T15:23:41.128204",
     "status": "completed"
    },
    "tags": []
   },
   "outputs": [
    {
     "data": {
      "application/javascript": [
       "parent.postMessage({\"jupyterEvent\": \"custom.exercise_interaction\", \"data\": {\"outcomeType\": 1, \"valueTowardsCompletion\": 0.1111111111111111, \"interactionType\": 1, \"questionType\": 1, \"questionId\": \"2_FirstDesc\", \"learnToolsVersion\": \"0.3.5\", \"failureMessage\": \"\", \"exceptionClass\": \"\", \"trace\": \"\"}}, \"*\")"
      ],
      "text/plain": [
       "<IPython.core.display.Javascript object>"
      ]
     },
     "metadata": {},
     "output_type": "display_data"
    },
    {
     "data": {
      "text/markdown": [
       "<span style=\"color:#33cc33\">Correct:</span> \n",
       "\n",
       "\n",
       "```python\n",
       "first_description = reviews.description.iloc[0]\n",
       "```\n",
       "Note that while this is the preferred way to obtain the entry in the DataFrame, many other options will return a valid result, such as `reviews.description.loc[0]`, `reviews.description[0]`, and more!  \n"
      ],
      "text/plain": [
       "Correct: \n",
       "\n",
       "\n",
       "```python\n",
       "first_description = reviews.description.iloc[0]\n",
       "```\n",
       "Note that while this is the preferred way to obtain the entry in the DataFrame, many other options will return a valid result, such as `reviews.description.loc[0]`, `reviews.description[0]`, and more!  "
      ]
     },
     "metadata": {},
     "output_type": "display_data"
    }
   ],
   "source": [
    "first_description = reviews['description'].iloc[0]\n",
    "q2.check()\n"
   ]
  },
  {
   "cell_type": "code",
   "execution_count": 6,
   "id": "4d34c8b7",
   "metadata": {
    "execution": {
     "iopub.execute_input": "2025-04-12T15:23:41.159985Z",
     "iopub.status.busy": "2025-04-12T15:23:41.159681Z",
     "iopub.status.idle": "2025-04-12T15:23:41.164086Z",
     "shell.execute_reply": "2025-04-12T15:23:41.163073Z"
    },
    "papermill": {
     "duration": 0.013587,
     "end_time": "2025-04-12T15:23:41.165712",
     "exception": false,
     "start_time": "2025-04-12T15:23:41.152125",
     "status": "completed"
    },
    "tags": []
   },
   "outputs": [],
   "source": [
    "#q2.hint()\n",
    "#q2.solution()"
   ]
  },
  {
   "cell_type": "markdown",
   "id": "eec4ddfb",
   "metadata": {
    "papermill": {
     "duration": 0.005608,
     "end_time": "2025-04-12T15:23:41.177360",
     "exception": false,
     "start_time": "2025-04-12T15:23:41.171752",
     "status": "completed"
    },
    "tags": []
   },
   "source": [
    "## 3. \n",
    "\n",
    "Select the first row of data (the first record) from `reviews`, assigning it to the variable `first_row`."
   ]
  },
  {
   "cell_type": "code",
   "execution_count": 7,
   "id": "7b0248ff",
   "metadata": {
    "execution": {
     "iopub.execute_input": "2025-04-12T15:23:41.190696Z",
     "iopub.status.busy": "2025-04-12T15:23:41.189906Z",
     "iopub.status.idle": "2025-04-12T15:23:41.198345Z",
     "shell.execute_reply": "2025-04-12T15:23:41.197304Z"
    },
    "papermill": {
     "duration": 0.016509,
     "end_time": "2025-04-12T15:23:41.199631",
     "exception": false,
     "start_time": "2025-04-12T15:23:41.183122",
     "status": "completed"
    },
    "tags": []
   },
   "outputs": [
    {
     "data": {
      "application/javascript": [
       "parent.postMessage({\"jupyterEvent\": \"custom.exercise_interaction\", \"data\": {\"outcomeType\": 1, \"valueTowardsCompletion\": 0.1111111111111111, \"interactionType\": 1, \"questionType\": 1, \"questionId\": \"3_FirstRow\", \"learnToolsVersion\": \"0.3.5\", \"failureMessage\": \"\", \"exceptionClass\": \"\", \"trace\": \"\"}}, \"*\")"
      ],
      "text/plain": [
       "<IPython.core.display.Javascript object>"
      ]
     },
     "metadata": {},
     "output_type": "display_data"
    },
    {
     "data": {
      "text/markdown": [
       "<span style=\"color:#33cc33\">Correct</span>"
      ],
      "text/plain": [
       "Correct"
      ]
     },
     "metadata": {},
     "output_type": "display_data"
    }
   ],
   "source": [
    "first_row = reviews.iloc[0]\n",
    "q3.check()\n"
   ]
  },
  {
   "cell_type": "code",
   "execution_count": 8,
   "id": "b297ccbc",
   "metadata": {
    "execution": {
     "iopub.execute_input": "2025-04-12T15:23:41.213818Z",
     "iopub.status.busy": "2025-04-12T15:23:41.213504Z",
     "iopub.status.idle": "2025-04-12T15:23:41.217718Z",
     "shell.execute_reply": "2025-04-12T15:23:41.216899Z"
    },
    "papermill": {
     "duration": 0.012981,
     "end_time": "2025-04-12T15:23:41.219252",
     "exception": false,
     "start_time": "2025-04-12T15:23:41.206271",
     "status": "completed"
    },
    "tags": []
   },
   "outputs": [],
   "source": [
    "#q3.hint()\n",
    "#q3.solution()"
   ]
  },
  {
   "cell_type": "markdown",
   "id": "142a158f",
   "metadata": {
    "papermill": {
     "duration": 0.005645,
     "end_time": "2025-04-12T15:23:41.231095",
     "exception": false,
     "start_time": "2025-04-12T15:23:41.225450",
     "status": "completed"
    },
    "tags": []
   },
   "source": [
    "## 4.\n",
    "\n",
    "Select the first 10 values from the `description` column in `reviews`, assigning the result to variable `first_descriptions`.\n",
    "\n",
    "Hint: format your output as a pandas Series."
   ]
  },
  {
   "cell_type": "code",
   "execution_count": 9,
   "id": "f61f6ded",
   "metadata": {
    "execution": {
     "iopub.execute_input": "2025-04-12T15:23:41.244499Z",
     "iopub.status.busy": "2025-04-12T15:23:41.244139Z",
     "iopub.status.idle": "2025-04-12T15:23:41.253193Z",
     "shell.execute_reply": "2025-04-12T15:23:41.252303Z"
    },
    "papermill": {
     "duration": 0.017514,
     "end_time": "2025-04-12T15:23:41.254576",
     "exception": false,
     "start_time": "2025-04-12T15:23:41.237062",
     "status": "completed"
    },
    "tags": []
   },
   "outputs": [
    {
     "data": {
      "application/javascript": [
       "parent.postMessage({\"jupyterEvent\": \"custom.exercise_interaction\", \"data\": {\"outcomeType\": 1, \"valueTowardsCompletion\": 0.1111111111111111, \"interactionType\": 1, \"questionType\": 1, \"questionId\": \"4_FirstDescs\", \"learnToolsVersion\": \"0.3.5\", \"failureMessage\": \"\", \"exceptionClass\": \"\", \"trace\": \"\"}}, \"*\")"
      ],
      "text/plain": [
       "<IPython.core.display.Javascript object>"
      ]
     },
     "metadata": {},
     "output_type": "display_data"
    },
    {
     "data": {
      "text/markdown": [
       "<span style=\"color:#33cc33\">Correct:</span> \n",
       "\n",
       "\n",
       "```python\n",
       "first_descriptions = reviews.description.iloc[:10]\n",
       "```\n",
       "Note that many other options will return a valid result, such as `desc.head(10)` and `reviews.loc[:9, \"description\"]`.    \n"
      ],
      "text/plain": [
       "Correct: \n",
       "\n",
       "\n",
       "```python\n",
       "first_descriptions = reviews.description.iloc[:10]\n",
       "```\n",
       "Note that many other options will return a valid result, such as `desc.head(10)` and `reviews.loc[:9, \"description\"]`.    "
      ]
     },
     "metadata": {},
     "output_type": "display_data"
    }
   ],
   "source": [
    "first_descriptions = reviews['description'].iloc[:10]\n",
    "q4.check()\n"
   ]
  },
  {
   "cell_type": "code",
   "execution_count": 10,
   "id": "27022322",
   "metadata": {
    "execution": {
     "iopub.execute_input": "2025-04-12T15:23:41.270136Z",
     "iopub.status.busy": "2025-04-12T15:23:41.269000Z",
     "iopub.status.idle": "2025-04-12T15:23:41.273289Z",
     "shell.execute_reply": "2025-04-12T15:23:41.272587Z"
    },
    "papermill": {
     "duration": 0.013349,
     "end_time": "2025-04-12T15:23:41.274682",
     "exception": false,
     "start_time": "2025-04-12T15:23:41.261333",
     "status": "completed"
    },
    "tags": []
   },
   "outputs": [],
   "source": [
    "#q4.hint()\n",
    "#q4.solution()"
   ]
  },
  {
   "cell_type": "markdown",
   "id": "474b7068",
   "metadata": {
    "papermill": {
     "duration": 0.006339,
     "end_time": "2025-04-12T15:23:41.287855",
     "exception": false,
     "start_time": "2025-04-12T15:23:41.281516",
     "status": "completed"
    },
    "tags": []
   },
   "source": [
    "## 5.\n",
    "\n",
    "Select the records with index labels `1`, `2`, `3`, `5`, and `8`, assigning the result to the variable `sample_reviews`.\n",
    "\n",
    "In other words, generate the following DataFrame:\n",
    "\n",
    "![](https://storage.googleapis.com/kaggle-media/learn/images/sHZvI1O.png)"
   ]
  },
  {
   "cell_type": "code",
   "execution_count": 11,
   "id": "55d15aa5",
   "metadata": {
    "execution": {
     "iopub.execute_input": "2025-04-12T15:23:41.302321Z",
     "iopub.status.busy": "2025-04-12T15:23:41.301998Z",
     "iopub.status.idle": "2025-04-12T15:23:41.311581Z",
     "shell.execute_reply": "2025-04-12T15:23:41.310621Z"
    },
    "papermill": {
     "duration": 0.018606,
     "end_time": "2025-04-12T15:23:41.313015",
     "exception": false,
     "start_time": "2025-04-12T15:23:41.294409",
     "status": "completed"
    },
    "tags": []
   },
   "outputs": [
    {
     "data": {
      "application/javascript": [
       "parent.postMessage({\"jupyterEvent\": \"custom.exercise_interaction\", \"data\": {\"outcomeType\": 1, \"valueTowardsCompletion\": 0.1111111111111111, \"interactionType\": 1, \"questionType\": 1, \"questionId\": \"5_SampleReviews\", \"learnToolsVersion\": \"0.3.5\", \"failureMessage\": \"\", \"exceptionClass\": \"\", \"trace\": \"\"}}, \"*\")"
      ],
      "text/plain": [
       "<IPython.core.display.Javascript object>"
      ]
     },
     "metadata": {},
     "output_type": "display_data"
    },
    {
     "data": {
      "text/markdown": [
       "<span style=\"color:#33cc33\">Correct</span>"
      ],
      "text/plain": [
       "Correct"
      ]
     },
     "metadata": {},
     "output_type": "display_data"
    }
   ],
   "source": [
    "sample_reviews = reviews.iloc[[1, 2, 3, 5, 8]]\n",
    "q5.check()\n"
   ]
  },
  {
   "cell_type": "code",
   "execution_count": 12,
   "id": "fd39f551",
   "metadata": {
    "execution": {
     "iopub.execute_input": "2025-04-12T15:23:41.327899Z",
     "iopub.status.busy": "2025-04-12T15:23:41.327562Z",
     "iopub.status.idle": "2025-04-12T15:23:41.332124Z",
     "shell.execute_reply": "2025-04-12T15:23:41.331072Z"
    },
    "papermill": {
     "duration": 0.014346,
     "end_time": "2025-04-12T15:23:41.333904",
     "exception": false,
     "start_time": "2025-04-12T15:23:41.319558",
     "status": "completed"
    },
    "tags": []
   },
   "outputs": [],
   "source": [
    "#q5.hint()\n",
    "#q5.solution()"
   ]
  },
  {
   "cell_type": "markdown",
   "id": "026aeab8",
   "metadata": {
    "papermill": {
     "duration": 0.006853,
     "end_time": "2025-04-12T15:23:41.347853",
     "exception": false,
     "start_time": "2025-04-12T15:23:41.341000",
     "status": "completed"
    },
    "tags": []
   },
   "source": [
    "## 6.\n",
    "\n",
    "Create a variable `df` containing the `country`, `province`, `region_1`, and `region_2` columns of the records with the index labels `0`, `1`, `10`, and `100`. In other words, generate the following DataFrame:\n",
    "\n",
    "![](https://storage.googleapis.com/kaggle-media/learn/images/FUCGiKP.png)"
   ]
  },
  {
   "cell_type": "code",
   "execution_count": 13,
   "id": "5b1b592f",
   "metadata": {
    "execution": {
     "iopub.execute_input": "2025-04-12T15:23:41.363590Z",
     "iopub.status.busy": "2025-04-12T15:23:41.362611Z",
     "iopub.status.idle": "2025-04-12T15:23:41.379228Z",
     "shell.execute_reply": "2025-04-12T15:23:41.378246Z"
    },
    "papermill": {
     "duration": 0.026207,
     "end_time": "2025-04-12T15:23:41.380907",
     "exception": false,
     "start_time": "2025-04-12T15:23:41.354700",
     "status": "completed"
    },
    "tags": []
   },
   "outputs": [
    {
     "data": {
      "application/javascript": [
       "parent.postMessage({\"jupyterEvent\": \"custom.exercise_interaction\", \"data\": {\"outcomeType\": 1, \"valueTowardsCompletion\": 0.1111111111111111, \"interactionType\": 1, \"questionType\": 1, \"questionId\": \"6_RowColSelect\", \"learnToolsVersion\": \"0.3.5\", \"failureMessage\": \"\", \"exceptionClass\": \"\", \"trace\": \"\"}}, \"*\")"
      ],
      "text/plain": [
       "<IPython.core.display.Javascript object>"
      ]
     },
     "metadata": {},
     "output_type": "display_data"
    },
    {
     "data": {
      "text/markdown": [
       "<span style=\"color:#33cc33\">Correct</span>"
      ],
      "text/plain": [
       "Correct"
      ]
     },
     "metadata": {},
     "output_type": "display_data"
    }
   ],
   "source": [
    "df = reviews.loc[[0, 1, 10, 100], ['country', 'province', 'region_1', 'region_2']]\n",
    "q6.check()\n"
   ]
  },
  {
   "cell_type": "code",
   "execution_count": 14,
   "id": "e316426b",
   "metadata": {
    "execution": {
     "iopub.execute_input": "2025-04-12T15:23:41.397096Z",
     "iopub.status.busy": "2025-04-12T15:23:41.396139Z",
     "iopub.status.idle": "2025-04-12T15:23:41.400479Z",
     "shell.execute_reply": "2025-04-12T15:23:41.399532Z"
    },
    "papermill": {
     "duration": 0.013554,
     "end_time": "2025-04-12T15:23:41.401996",
     "exception": false,
     "start_time": "2025-04-12T15:23:41.388442",
     "status": "completed"
    },
    "tags": []
   },
   "outputs": [],
   "source": [
    "#q6.hint()\n",
    "#q6.solution()"
   ]
  },
  {
   "cell_type": "markdown",
   "id": "3f9dc372",
   "metadata": {
    "papermill": {
     "duration": 0.006444,
     "end_time": "2025-04-12T15:23:41.415275",
     "exception": false,
     "start_time": "2025-04-12T15:23:41.408831",
     "status": "completed"
    },
    "tags": []
   },
   "source": [
    "## 7.\n",
    "\n",
    "Create a variable `df` containing the `country` and `variety` columns of the first 100 records. \n",
    "\n",
    "Hint: you may use `loc` or `iloc`. When working on the answer this question and the several of the ones that follow, keep the following \"gotcha\" described in the tutorial:\n",
    "\n",
    "> `iloc` uses the Python stdlib indexing scheme, where the first element of the range is included and the last one excluded. \n",
    "`loc`, meanwhile, indexes inclusively. \n",
    "\n",
    "> This is particularly confusing when the DataFrame index is a simple numerical list, e.g. `0,...,1000`. In this case `df.iloc[0:1000]` will return 1000 entries, while `df.loc[0:1000]` return 1001 of them! To get 1000 elements using `loc`, you will need to go one lower and ask for `df.iloc[0:999]`. "
   ]
  },
  {
   "cell_type": "code",
   "execution_count": 15,
   "id": "b89e4b4c",
   "metadata": {
    "execution": {
     "iopub.execute_input": "2025-04-12T15:23:41.430451Z",
     "iopub.status.busy": "2025-04-12T15:23:41.429520Z",
     "iopub.status.idle": "2025-04-12T15:23:41.452921Z",
     "shell.execute_reply": "2025-04-12T15:23:41.451924Z"
    },
    "papermill": {
     "duration": 0.032517,
     "end_time": "2025-04-12T15:23:41.454458",
     "exception": false,
     "start_time": "2025-04-12T15:23:41.421941",
     "status": "completed"
    },
    "tags": []
   },
   "outputs": [
    {
     "data": {
      "application/javascript": [
       "parent.postMessage({\"jupyterEvent\": \"custom.exercise_interaction\", \"data\": {\"outcomeType\": 2, \"failureMessage\": \"Expected `df` to have length 100 but was actually 4\", \"interactionType\": 1, \"questionType\": 1, \"questionId\": \"7_RowColSelect2\", \"learnToolsVersion\": \"0.3.5\", \"valueTowardsCompletion\": 0.0, \"exceptionClass\": \"\", \"trace\": \"\"}}, \"*\")"
      ],
      "text/plain": [
       "<IPython.core.display.Javascript object>"
      ]
     },
     "metadata": {},
     "output_type": "display_data"
    },
    {
     "data": {
      "text/markdown": [
       "<span style=\"color:#cc3333\">Incorrect:</span> Expected `df` to have length 100 but was actually 4"
      ],
      "text/plain": [
       "Incorrect: Expected `df` to have length 100 but was actually 4"
      ]
     },
     "metadata": {},
     "output_type": "display_data"
    }
   ],
   "source": [
    "reviews.loc[reviews['country'] == 'US', 'country'] = 'United States'\n",
    "q7.check()\n"
   ]
  },
  {
   "cell_type": "code",
   "execution_count": 16,
   "id": "0f3d8dc9",
   "metadata": {
    "execution": {
     "iopub.execute_input": "2025-04-12T15:23:41.469549Z",
     "iopub.status.busy": "2025-04-12T15:23:41.469269Z",
     "iopub.status.idle": "2025-04-12T15:23:41.473612Z",
     "shell.execute_reply": "2025-04-12T15:23:41.472628Z"
    },
    "papermill": {
     "duration": 0.01357,
     "end_time": "2025-04-12T15:23:41.475020",
     "exception": false,
     "start_time": "2025-04-12T15:23:41.461450",
     "status": "completed"
    },
    "tags": []
   },
   "outputs": [],
   "source": [
    "#q7.hint()\n",
    "#q7.solution()"
   ]
  },
  {
   "cell_type": "markdown",
   "id": "67546441",
   "metadata": {
    "papermill": {
     "duration": 0.006723,
     "end_time": "2025-04-12T15:23:41.559748",
     "exception": false,
     "start_time": "2025-04-12T15:23:41.553025",
     "status": "completed"
    },
    "tags": []
   },
   "source": [
    "## 8.\n",
    "\n",
    "Create a DataFrame `italian_wines` containing reviews of wines made in `Italy`. Hint: `reviews.country` equals what?"
   ]
  },
  {
   "cell_type": "code",
   "execution_count": 17,
   "id": "38bdf4e8",
   "metadata": {
    "execution": {
     "iopub.execute_input": "2025-04-12T15:23:41.575048Z",
     "iopub.status.busy": "2025-04-12T15:23:41.574211Z",
     "iopub.status.idle": "2025-04-12T15:23:41.595908Z",
     "shell.execute_reply": "2025-04-12T15:23:41.595135Z"
    },
    "papermill": {
     "duration": 0.031006,
     "end_time": "2025-04-12T15:23:41.597477",
     "exception": false,
     "start_time": "2025-04-12T15:23:41.566471",
     "status": "completed"
    },
    "tags": []
   },
   "outputs": [
    {
     "data": {
      "application/javascript": [
       "parent.postMessage({\"jupyterEvent\": \"custom.exercise_interaction\", \"data\": {\"outcomeType\": 4, \"interactionType\": 1, \"questionType\": 1, \"questionId\": \"8_ItalianWines\", \"learnToolsVersion\": \"0.3.5\", \"valueTowardsCompletion\": 0.0, \"failureMessage\": \"\", \"exceptionClass\": \"\", \"trace\": \"\"}}, \"*\")"
      ],
      "text/plain": [
       "<IPython.core.display.Javascript object>"
      ]
     },
     "metadata": {},
     "output_type": "display_data"
    },
    {
     "data": {
      "text/markdown": [
       "<span style=\"color:#ccaa33\">Check:</span> When you've updated the starter code, `check()` will tell you whether your code is correct. Remember, you must create the following variable: `italian_wines`"
      ],
      "text/plain": [
       "Check: When you've updated the starter code, `check()` will tell you whether your code is correct. Remember, you must create the following variable: `italian_wines`"
      ]
     },
     "metadata": {},
     "output_type": "display_data"
    }
   ],
   "source": [
    "italy_descriptions = reviews.loc[reviews['country'] == 'Italy', 'description']\n",
    "q8.check()\n"
   ]
  },
  {
   "cell_type": "code",
   "execution_count": 18,
   "id": "a4d0a4f6",
   "metadata": {
    "execution": {
     "iopub.execute_input": "2025-04-12T15:23:41.613923Z",
     "iopub.status.busy": "2025-04-12T15:23:41.613638Z",
     "iopub.status.idle": "2025-04-12T15:23:41.617820Z",
     "shell.execute_reply": "2025-04-12T15:23:41.616967Z"
    },
    "papermill": {
     "duration": 0.01436,
     "end_time": "2025-04-12T15:23:41.619512",
     "exception": false,
     "start_time": "2025-04-12T15:23:41.605152",
     "status": "completed"
    },
    "tags": []
   },
   "outputs": [],
   "source": [
    "#q8.hint()\n",
    "#q8.solution()"
   ]
  },
  {
   "cell_type": "markdown",
   "id": "fba3f2cb",
   "metadata": {
    "papermill": {
     "duration": 0.006851,
     "end_time": "2025-04-12T15:23:41.633920",
     "exception": false,
     "start_time": "2025-04-12T15:23:41.627069",
     "status": "completed"
    },
    "tags": []
   },
   "source": [
    "## 9.\n",
    "\n",
    "Create a DataFrame `top_oceania_wines` containing all reviews with at least 95 points (out of 100) for wines from Australia or New Zealand."
   ]
  },
  {
   "cell_type": "code",
   "execution_count": 19,
   "id": "8c4e80a3",
   "metadata": {
    "execution": {
     "iopub.execute_input": "2025-04-12T15:23:41.650031Z",
     "iopub.status.busy": "2025-04-12T15:23:41.649078Z",
     "iopub.status.idle": "2025-04-12T15:23:41.660474Z",
     "shell.execute_reply": "2025-04-12T15:23:41.659486Z"
    },
    "papermill": {
     "duration": 0.021166,
     "end_time": "2025-04-12T15:23:41.662046",
     "exception": false,
     "start_time": "2025-04-12T15:23:41.640880",
     "status": "completed"
    },
    "tags": []
   },
   "outputs": [
    {
     "data": {
      "application/javascript": [
       "parent.postMessage({\"jupyterEvent\": \"custom.exercise_interaction\", \"data\": {\"outcomeType\": 4, \"interactionType\": 1, \"questionType\": 1, \"questionId\": \"9_TopOceanicWines\", \"learnToolsVersion\": \"0.3.5\", \"valueTowardsCompletion\": 0.0, \"failureMessage\": \"\", \"exceptionClass\": \"\", \"trace\": \"\"}}, \"*\")"
      ],
      "text/plain": [
       "<IPython.core.display.Javascript object>"
      ]
     },
     "metadata": {},
     "output_type": "display_data"
    },
    {
     "data": {
      "text/markdown": [
       "<span style=\"color:#ccaa33\">Check:</span> When you've updated the starter code, `check()` will tell you whether your code is correct. Remember, you must create the following variable: `top_oceania_wines`"
      ],
      "text/plain": [
       "Check: When you've updated the starter code, `check()` will tell you whether your code is correct. Remember, you must create the following variable: `top_oceania_wines`"
      ]
     },
     "metadata": {},
     "output_type": "display_data"
    }
   ],
   "source": [
    "reviews['price'] = reviews['price'].fillna(0)\n",
    "\n",
    "reviews.loc[reviews['price'] > 100, 'price'] = 99\n",
    "q9.check()\n"
   ]
  },
  {
   "cell_type": "code",
   "execution_count": 20,
   "id": "214a4003",
   "metadata": {
    "execution": {
     "iopub.execute_input": "2025-04-12T15:23:41.679301Z",
     "iopub.status.busy": "2025-04-12T15:23:41.678957Z",
     "iopub.status.idle": "2025-04-12T15:23:41.683136Z",
     "shell.execute_reply": "2025-04-12T15:23:41.682234Z"
    },
    "papermill": {
     "duration": 0.014925,
     "end_time": "2025-04-12T15:23:41.684751",
     "exception": false,
     "start_time": "2025-04-12T15:23:41.669826",
     "status": "completed"
    },
    "tags": []
   },
   "outputs": [],
   "source": [
    "#q9.hint()\n",
    "#q9.solution()"
   ]
  },
  {
   "cell_type": "markdown",
   "id": "25fc390a",
   "metadata": {
    "papermill": {
     "duration": 0.007248,
     "end_time": "2025-04-12T15:23:41.699823",
     "exception": false,
     "start_time": "2025-04-12T15:23:41.692575",
     "status": "completed"
    },
    "tags": []
   },
   "source": [
    "# Keep going\n",
    "\n",
    "Move on to learn about **[summary functions and maps](https://www.kaggle.com/residentmario/summary-functions-and-maps)**."
   ]
  },
  {
   "cell_type": "markdown",
   "id": "a18af75a",
   "metadata": {
    "papermill": {
     "duration": 0.007105,
     "end_time": "2025-04-12T15:23:41.714411",
     "exception": false,
     "start_time": "2025-04-12T15:23:41.707306",
     "status": "completed"
    },
    "tags": []
   },
   "source": [
    "---\n",
    "\n",
    "\n",
    "\n",
    "\n",
    "*Have questions or comments? Visit the [course discussion forum](https://www.kaggle.com/learn/pandas/discussion) to chat with other learners.*"
   ]
  }
 ],
 "metadata": {
  "kaggle": {
   "accelerator": "none",
   "dataSources": [
    {
     "datasetId": 655,
     "sourceId": 1252,
     "sourceType": "datasetVersion"
    },
    {
     "datasetId": 2321,
     "sourceId": 3919,
     "sourceType": "datasetVersion"
    },
    {
     "datasetId": 2894,
     "sourceId": 4877,
     "sourceType": "datasetVersion"
    },
    {
     "datasetId": 3491,
     "sourceId": 5624,
     "sourceType": "datasetVersion"
    },
    {
     "datasetId": 1442,
     "sourceId": 8172,
     "sourceType": "datasetVersion"
    },
    {
     "datasetId": 9366,
     "sourceId": 13206,
     "sourceType": "datasetVersion"
    },
    {
     "datasetId": 179555,
     "sourceId": 403916,
     "sourceType": "datasetVersion"
    },
    {
     "datasetId": 4549,
     "sourceId": 466349,
     "sourceType": "datasetVersion"
    },
    {
     "datasetId": 2478,
     "sourceId": 1151655,
     "sourceType": "datasetVersion"
    },
    {
     "datasetId": 10128,
     "sourceId": 5438389,
     "sourceType": "datasetVersion"
    }
   ],
   "isGpuEnabled": false,
   "isInternetEnabled": false,
   "language": "python",
   "sourceType": "notebook"
  },
  "kernelspec": {
   "display_name": "Python 3",
   "language": "python",
   "name": "python3"
  },
  "language_info": {
   "codemirror_mode": {
    "name": "ipython",
    "version": 3
   },
   "file_extension": ".py",
   "mimetype": "text/x-python",
   "name": "python",
   "nbconvert_exporter": "python",
   "pygments_lexer": "ipython3",
   "version": "3.11.11"
  },
  "papermill": {
   "default_parameters": {},
   "duration": 11.813534,
   "end_time": "2025-04-12T15:23:42.246310",
   "environment_variables": {},
   "exception": null,
   "input_path": "__notebook__.ipynb",
   "output_path": "__notebook__.ipynb",
   "parameters": {},
   "start_time": "2025-04-12T15:23:30.432776",
   "version": "2.6.0"
  }
 },
 "nbformat": 4,
 "nbformat_minor": 5
}
