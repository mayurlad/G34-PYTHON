{
 "cells": [
  {
   "cell_type": "markdown",
   "id": "3f2ef4c5",
   "metadata": {},
   "source": [
    "Q1. Write a Python program that takes a sentence as input and returns a dictionary where the keys are vowels and the values are the number of times each vowel appears in the sentence. Ignore case.\n",
    "Example Input: \"Education is important\" Expected Output: {'a': 2, 'e': 1, 'i': 2, 'o': 1, 'u': 1}"
   ]
  },
  {
   "cell_type": "code",
   "execution_count": null,
   "id": "1688f026",
   "metadata": {},
   "outputs": [],
   "source": [
    "sentence = input(\"Enter a sentence: \")\n",
    "sentence = sentence.lower()\n",
    "vowels = 'aeiou'\n",
    "vowel_count = {}\n",
    "\n",
    "for char in sentence:\n",
    "    if char in vowels:\n",
    "        if char in vowel_count:\n",
    "            vowel_count[char] += 1\n",
    "        else:\n",
    "            vowel_count[char] = 1\n",
    "\n",
    "print(vowel_count)\n"
   ]
  },
  {
   "cell_type": "markdown",
   "id": "2a178bac",
   "metadata": {},
   "source": [
    "Q2. Write a function that checks if a given number is a palindrome. Then write another function that prints all palindrome numbers between two given numbers (inclusive).\n",
    "Example Input: start = 100, end = 150 Expected Output: 101 111 121 131 141"
   ]
  },
  {
   "cell_type": "code",
   "execution_count": null,
   "id": "0a17d449",
   "metadata": {},
   "outputs": [],
   "source": [
    "def is_palindrome(num):\n",
    "    return str(num) == str(num)[::-1]\n",
    "\n",
    "def print_palindromes(start, end):\n",
    "    for i in range(start, end+1):\n",
    "        if is_palindrome(i):\n",
    "            print(i, end=' ')\n",
    "\n",
    "print_palindromes(100, 150)\n"
   ]
  },
  {
   "cell_type": "markdown",
   "id": "c22d80ec",
   "metadata": {},
   "source": [
    "Q3. Create a class Employee with attributes emp_id, name, and salary. Write methods to:\n",
    "•\n",
    "Display employee details\n",
    "•\n",
    "Write the details to a file named employee_data.txt in CSV format\n",
    "•\n",
    "Read from the file and display the content"
   ]
  },
  {
   "cell_type": "code",
   "execution_count": null,
   "id": "f43730ec",
   "metadata": {},
   "outputs": [],
   "source": [
    "class Employee:\n",
    "    def __init__(self, emp_id, name, salary):\n",
    "        self.emp_id = emp_id\n",
    "        self.name = name\n",
    "        self.salary = salary\n",
    "\n",
    "    def display(self):\n",
    "        print(\"ID:\", self.emp_id)\n",
    "        print(\"Name:\", self.name)\n",
    "        print(\"Salary:\", self.salary)\n",
    "\n",
    "    def write_to_file(self):\n",
    "        with open(\"employee_data.txt\", \"w\") as f:\n",
    "            f.write(f\"{self.emp_id},{self.name},{self.salary}\\n\")\n",
    "\n",
    "    def read_from_file(self):\n",
    "        with open(\"employee_data.txt\", \"r\") as f:\n",
    "            data = f.read()\n",
    "            print(\"File Content:\")\n",
    "            print(data)\n",
    "\n",
    "emp = Employee(101, \"Mayur\", 50000)\n",
    "emp.display()\n",
    "emp.write_to_file()\n",
    "emp.read_from_file()\n"
   ]
  },
  {
   "cell_type": "markdown",
   "id": "34b4f445",
   "metadata": {},
   "source": [
    "Q4. Create a class LogAnalyzer that reads a file called log.txt, counts the number of lines that contain the word \"error\" (case-insensitive), and prints the count. Include proper function(s) and file handling. Assume log.txt contains multiple lines.\n",
    "Log.txt:\n",
    "INFO: System initialized successfully\n",
    "ERROR: Failed to connect to the database\n",
    "WARNING: Deprecated function used\n",
    "info: User logged in\n",
    "error: Timeout while connecting to server\n",
    "DEBUG: Memory usage is within limits\n",
    "ERROR: Null pointer exception occurred\n",
    "Warning: Battery level low\n",
    "fatal: System crash detected\n",
    "Error: File not found"
   ]
  },
  {
   "cell_type": "code",
   "execution_count": null,
   "id": "6684c8d0",
   "metadata": {},
   "outputs": [],
   "source": [
    "class LogAnalyzer:\n",
    "    def __init__(self, filename):\n",
    "        self.filename = filename\n",
    "\n",
    "    def count_errors(self):\n",
    "        count = 0\n",
    "        with open(self.filename, \"r\") as file:\n",
    "            for line in file:\n",
    "                if \"error\" in line.lower():\n",
    "                    count += 1\n",
    "        print(\"Number of error lines:\", count)\n",
    "\n",
    "log = LogAnalyzer(\"log.txt\")\n",
    "log.count_errors()\n"
   ]
  }
 ],
 "metadata": {
  "kernelspec": {
   "display_name": "datascience",
   "language": "python",
   "name": "python3"
  },
  "language_info": {
   "codemirror_mode": {
    "name": "ipython",
    "version": 3
   },
   "file_extension": ".py",
   "mimetype": "text/x-python",
   "name": "python",
   "nbconvert_exporter": "python",
   "pygments_lexer": "ipython3",
   "version": "3.13.2"
  }
 },
 "nbformat": 4,
 "nbformat_minor": 5
}
