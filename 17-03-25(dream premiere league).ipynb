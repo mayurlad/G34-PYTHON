{
 "cells": [
  {
   "cell_type": "markdown",
   "metadata": {
    "id": "8hjlpv4ix8LQ"
   },
   "source": [
    "# <center><u>Dream Premier League (DPL)</u>\n",
    "### A match of DPL is going on. Team Aravali has a made score of **195** for **7** in **20** overs and the opponent Team Shivalik is doing some analytics to find out what they need to do to win. You are the Data Scientist of the Team Shivalik and you have been asked to help them."
   ]
  },
  {
   "cell_type": "markdown",
   "metadata": {
    "id": "JkqzpQzX54Z-"
   },
   "source": [
    "## <u>Problem 1</u>\n",
    "\n",
    "### Team Shivalik has stored the runs made by Team Aravali players in the following dictionary.\n",
    "\n"
   ]
  },
  {
   "cell_type": "code",
   "execution_count": 20,
   "metadata": {
    "id": "rypcBaB37JMD"
   },
   "outputs": [],
   "source": [
    "aravali ={ \"Dhoni\":25, \"Virat\":31, \"Pollard\":11, \"Rohit\": 0, \"Maxwell\":12, \"Sachin\":59, \"Sehwag\":12 }"
   ]
  },
  {
   "cell_type": "markdown",
   "metadata": {
    "id": "747H1msbg-ns"
   },
   "source": [
    "### Get the list of all players in Team Aravali"
   ]
  },
  {
   "cell_type": "code",
   "execution_count": 2,
   "metadata": {
    "id": "poP0TCGdhLuj"
   },
   "outputs": [],
   "source": [
    "# Get the list of players in Team Aravali\n",
    "aravali_Team_player=[\"Hardik\",\"Surya\",\"Samson\",\"Pant\",\"jadeja\",\"KL Rahul\",\"Bumrah\",\"shami\",\"Siraj\",\"Kulddeep\",\"chahal\"]"
   ]
  },
  {
   "cell_type": "markdown",
   "metadata": {
    "id": "YypMEr-i7fCE"
   },
   "source": [
    "## <u>Problem 2</u>\n",
    "\n",
    "### By mistake, the runs made by Rohit was recorded as <code>0</code>. Your next task is to figure out how many runs were made by Rohit and update the dictionary"
   ]
  },
  {
   "cell_type": "code",
   "execution_count": 4,
   "metadata": {
    "id": "DZTXlt9I51vd"
   },
   "outputs": [
    {
     "name": "stdout",
     "output_type": "stream",
     "text": [
      "Runs Made By Rohit: 45\n",
      "Updated Dictionary:{'Dhoni': 25, 'Virat': 31, 'Pollard': 11, 'Rohit': 45, 'Maxwell': 12, 'Sachin': 59, 'Sehwag': 12}\n"
     ]
    }
   ],
   "source": [
    "# We know the total runs\n",
    "total_runs_shivalik=195\n",
    "sum=0\n",
    "for key,val in aravali.items():\n",
    "    sum+=val\n",
    "Rohit_runs=total_runs_shivalik-sum\n",
    "print(f\"Runs Made By Rohit: {Rohit_runs}\")\n",
    "aravali['Rohit']=Rohit_runs\n",
    "print(f\"Updated Dictionary:{aravali}\")\n"
   ]
  },
  {
   "cell_type": "code",
   "execution_count": 5,
   "metadata": {
    "id": "N46LGzE97waZ"
   },
   "outputs": [
    {
     "name": "stdout",
     "output_type": "stream",
     "text": [
      "Runs Made By Rohit: 45\n"
     ]
    }
   ],
   "source": [
    "# Print runs scored by Rohit\n",
    "print(f\"Runs Made By Rohit: {Rohit_runs}\")"
   ]
  },
  {
   "cell_type": "code",
   "execution_count": 22,
   "metadata": {
    "id": "4rTAegi67zOq"
   },
   "outputs": [
    {
     "name": "stdout",
     "output_type": "stream",
     "text": [
      "Updated Dictionary:{'Dhoni': 25, 'Virat': 31, 'Pollard': 11, 'Rohit': 45, 'Maxwell': 12, 'Sachin': 59, 'Sehwag': 12}\n"
     ]
    }
   ],
   "source": [
    "# Update the dictionary with correct value of runs\n",
    "aravali['Rohit']=Rohit_runs\n",
    "print(f\"Updated Dictionary:{aravali}\")"
   ]
  },
  {
   "cell_type": "markdown",
   "metadata": {
    "id": "iM1FJFlWh7C5"
   },
   "source": [
    "## <u>Problem 4</u>\n",
    "\n",
    "#### Your next task is to find out who scored the second highest runs in Team Aravali"
   ]
  },
  {
   "cell_type": "code",
   "execution_count": 10,
   "metadata": {
    "id": "YPdfTlsKiWVx"
   },
   "outputs": [
    {
     "name": "stdout",
     "output_type": "stream",
     "text": [
      "dict_values([25, 31, 11, 45, 12, 59, 12])\n",
      "The Second Highest Runs Are :45\n"
     ]
    }
   ],
   "source": [
    "# Your code below\n",
    "list_runs_aravali=aravali.values()\n",
    "print(list_runs_aravali)\n",
    "Sorted_runs=sorted(list_runs_aravali,reverse=True)\n",
    "print(f\"The Second Highest Runs Are :{Sorted_runs[1]}\")\n",
    "\n"
   ]
  },
  {
   "cell_type": "markdown",
   "metadata": {
    "id": "se80XQGBGekX"
   },
   "source": [
    "## <u>Problem 4</u>\n",
    "\n",
    "#### Just out of curiosity, you want to find out the unique runs made by Team Aravali players."
   ]
  },
  {
   "cell_type": "code",
   "execution_count": 24,
   "metadata": {
    "id": "X-XQWW4lGZaG"
   },
   "outputs": [
    {
     "name": "stdout",
     "output_type": "stream",
     "text": [
      "{11, 12, 45, 25, 59, 31}\n"
     ]
    }
   ],
   "source": [
    "# Your code below\n",
    "run_set =set(aravali.values())\n",
    "unique_runs_Players={}\n",
    "print(run_set)\n"
   ]
  },
  {
   "cell_type": "code",
   "execution_count": 26,
   "metadata": {
    "id": "GL56nYUzF6hs"
   },
   "outputs": [
    {
     "name": "stdout",
     "output_type": "stream",
     "text": [
      "Unique Runs of Team Aaraavali:{11, 12, 45, 25, 59, 31}\n"
     ]
    }
   ],
   "source": [
    "# Print the unique runs\n",
    "print(f\"Unique Runs of Team Aaraavali:{run_set}\")"
   ]
  },
  {
   "cell_type": "markdown",
   "metadata": {
    "id": "IJvnHaNzeGMP"
   },
   "source": [
    "## <u>Problem 5</u>\n",
    "#### Team Shivalik has 6 fixed players and 5 slots for players who are playing good currently. Create two collections using appropriate data structure to write this 6 fixed and 5 mutable players. You can choose any player you want.\n",
    "\n",
    "#### Available Players in the squad :\n",
    "<code>['Vijay', 'Lasith', 'Dravid', 'Smith', 'Smith', 'Hardik', 'Sushant', 'Mandeep', 'Harbhajan', 'Yuvraj', 'Jadeja','Rajeev','Amrit']\n"
   ]
  },
  {
   "cell_type": "code",
   "execution_count": 29,
   "metadata": {
    "id": "-0hTOMTQdEXE"
   },
   "outputs": [],
   "source": [
    "# Your code below\n",
    "fixed =['Vijay','Dravid','Smith','Mandeep','Hardik','Yuvraj']\n",
    "mutable =['Lasith','Jadeja','Rajeev','Amrit','Sushant']"
   ]
  },
  {
   "cell_type": "code",
   "execution_count": 30,
   "metadata": {
    "id": "1PEvrGDwfjc5"
   },
   "outputs": [
    {
     "name": "stdout",
     "output_type": "stream",
     "text": [
      "['Vijay', 'Dravid', 'Smith', 'Mandeep', 'Hardik', 'Yuvraj'],['Lasith', 'Jadeja', 'Rajeev', 'Amrit', 'Sushant']\n"
     ]
    }
   ],
   "source": [
    "# Print them on same line using comma to seperate them\n",
    "print(f\"{fixed},{mutable}\")"
   ]
  },
  {
   "cell_type": "markdown",
   "metadata": {
    "id": "N-VdT09NfhL6"
   },
   "source": [
    "## <u>Problem 6</u>\n",
    "Try changing fixed player and mutable player"
   ]
  },
  {
   "cell_type": "code",
   "execution_count": 32,
   "metadata": {
    "id": "E4lN-bxbffnF"
   },
   "outputs": [],
   "source": [
    "# Change fixed player\n",
    "fixed[3]='jadeja'"
   ]
  },
  {
   "cell_type": "code",
   "execution_count": 31,
   "metadata": {
    "id": "mbfWHggRgYJK"
   },
   "outputs": [],
   "source": [
    "# Change mutable player\n",
    "mutable[1]=\"Harbhajan\""
   ]
  },
  {
   "cell_type": "markdown",
   "metadata": {
    "id": "KHrH5V0HFFhq"
   },
   "source": [
    "## <u> Problem 7</u>\n",
    "\n",
    "#### Find out the runrate required for Team Shivalik to win (for 20 overs)<br>\n",
    "#### Hint: Runrate is runs required per over to win the match"
   ]
  },
  {
   "cell_type": "code",
   "execution_count": 34,
   "metadata": {
    "id": "QFd1CnS5E79X"
   },
   "outputs": [],
   "source": [
    "# Your code here\n",
    "runrate =total_runs_shivalik/20"
   ]
  },
  {
   "cell_type": "code",
   "execution_count": 35,
   "metadata": {
    "id": "7f5Mnj93Ft3a"
   },
   "outputs": [
    {
     "name": "stdout",
     "output_type": "stream",
     "text": [
      "Runrate Reduired per Over to Win the Match is:9.75\n"
     ]
    }
   ],
   "source": [
    "# Print the run rate\n",
    "print(f\"Runrate Reduired per Over to Win the Match is:{runrate}\")"
   ]
  },
  {
   "cell_type": "markdown",
   "metadata": {
    "id": "uukQzwZQNwBE"
   },
   "source": [
    "## <u> Problem 8</u>\n",
    "#### You have just received a secret message form your informant stating that some players of the other team are into match fixing. You have to decode a message and inform authorities about it.<br>\n",
    "\n",
    "#### You received a string **\"skdlfjnvuerhw qefnnaosfu qrhviudhfv wuirhv adknlkxjcier vafuvhkajn iuvhsf vasuif KJSHFKJ aeuihvasf akjfhiufe\"** and index of \"i\" are going to be \"no balls\".\n",
    "\n",
    "\n",
    "### Find the first and last no ball from the string."
   ]
  },
  {
   "cell_type": "code",
   "execution_count": 40,
   "metadata": {
    "id": "qJpki-fNJxvr"
   },
   "outputs": [
    {
     "name": "stdout",
     "output_type": "stream",
     "text": [
      "First No Ball:29\n",
      "last No Ball:104\n"
     ]
    }
   ],
   "source": [
    "#First no ball\n",
    "message = \"skdlfjnvuerhw qefnnaosfu qrhviudhfv wuirhv adknlkxjcier vafuvhkajn iuvhsf vasuif KJSHFKJ aeuihvasf akjfhiufe\"\n",
    "no_ball_index=[]\n",
    "for index,char in enumerate(message):\n",
    "    if char=='i':\n",
    "        no_ball_index.append(index)\n",
    "print(f\"First No Ball:{no_ball_index[0]}\")\n",
    "\n",
    "# Last no ball\n",
    "print(f\"last No Ball:{no_ball_index[-1]}\")"
   ]
  },
  {
   "cell_type": "code",
   "execution_count": 41,
   "metadata": {
    "id": "8qMvmZydQAlr"
   },
   "outputs": [
    {
     "name": "stdout",
     "output_type": "stream",
     "text": [
      "First No Ball:29\n",
      "last No Ball:104\n"
     ]
    }
   ],
   "source": [
    "# Print the first and last ball numbers\n",
    "print(f\"First No Ball:{no_ball_index[0]}\")\n",
    "print(f\"last No Ball:{no_ball_index[-1]}\")\n"
   ]
  },
  {
   "cell_type": "markdown",
   "metadata": {
    "id": "dOIGKmlKaV8j"
   },
   "source": [
    "## <u>Problem 9</u>\n",
    "\n",
    "### You have given the information about fixing to the authorities and they are going to verify it during the match. But still you have to work on your strategy.\n",
    "\n",
    "### It is in your hands to automate the decision on who goes on 4th position for batting depending on following criteria:\n",
    "\n",
    "* if runs made by Team Shivalik is less than 50, Smith will play\n",
    "* if runs are between 51 to 100 then Sir Jadeja will go\n",
    "* if runs are above 100 then Hardik will play"
   ]
  },
  {
   "cell_type": "code",
   "execution_count": 43,
   "metadata": {
    "id": "DpnGURU1Y-Af"
   },
   "outputs": [
    {
     "name": "stdout",
     "output_type": "stream",
     "text": [
      "Smith will go for the Batting\n"
     ]
    }
   ],
   "source": [
    "# Your code below\n",
    "B_runs = int(input(\"enter the runs Scored by the shivaliks Team Currently:\"))\n",
    "if B_runs<=50:\n",
    "    print(\"Smith will go for the Batting\")\n",
    "elif B_runs>=51 or B_runs<=100:\n",
    "     print(\"Jadeja will go for the Batting\")\n",
    "else:\n",
    "      print(\"Hardik will go for the Batting\")\n",
    "\n",
    "\n",
    "\n",
    "\n",
    "\n",
    "\n"
   ]
  },
  {
   "cell_type": "markdown",
   "metadata": {
    "id": "kLakmjOYmKMM"
   },
   "source": [
    "# Hurray! Turns out you won the match and the guilty players are punished as well. You should be proud of yourself!"
   ]
  },
  {
   "cell_type": "code",
   "execution_count": null,
   "metadata": {
    "id": "8xRCkwJ76n_I"
   },
   "outputs": [],
   "source": []
  }
 ],
 "metadata": {
  "colab": {
   "provenance": []
  },
  "kernelspec": {
   "display_name": "Python 3",
   "language": "python",
   "name": "python3"
  },
  "language_info": {
   "codemirror_mode": {
    "name": "ipython",
    "version": 3
   },
   "file_extension": ".py",
   "mimetype": "text/x-python",
   "name": "python",
   "nbconvert_exporter": "python",
   "pygments_lexer": "ipython3",
   "version": "3.12.4"
  }
 },
 "nbformat": 4,
 "nbformat_minor": 1
}
